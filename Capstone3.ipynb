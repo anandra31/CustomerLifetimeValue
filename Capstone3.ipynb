{
 "cells": [
  {
   "cell_type": "markdown",
   "metadata": {
    "id": "XLmmP-umk-Az"
   },
   "source": [
    "Capstone Project Modul 3\n",
    "### **Contents**\n",
    "\n",
    "1. Business Problem Understanding\n",
    "2. Data Understanding\n",
    "3. Data Preprocessing\n",
    "4. Modeling\n",
    "5. Conclusion\n",
    "6. Recommendation\n",
    "\n",
    "****"
   ]
  },
  {
   "cell_type": "markdown",
   "metadata": {
    "id": "4AfFAHobk-A1"
   },
   "source": [
    "### **1_Business Problem Understanding**"
   ]
  },
  {
   "cell_type": "markdown",
   "metadata": {
    "id": "-vzFEqaok-A1"
   },
   "source": [
    "**1_1_Context**\n",
    "<br><br>\n",
    "Asuransi adalah sebuah alat keselamatan/proteksi dari kehilangan secara finansial. Asuransi bekerja dengan cara pemegang asuransi dapat membayar iuran/premi secara konstan (biasanya per bulan), dan dapat mencairkan asuransi saat suatu kerugian terjadi. Tipe kerugian yang dapat di tanggung oleh sebuah perusahaan asuransi dapat di sepakati terlebih dahulu, serta berapa banyak jumlah / presentasi dari kerugian yang dapat di tanggung.\n",
    "\n",
    "Salah satu asuransi yang paling umum adalah asurans mobil, dimana perusahaan dapat membantu membayar kerusakan pada sebuah mobil yang dimiliki seorang pemegang asuransi. Tanggungan yang diberi perusahaan untuk pemegang asuransi dapat berupa pembayaran untuk kehilangan, kerusakan kecil, ataupun kerusakan total. Semua jenis & jumlah tanggungan yang diberi akan di sepakati terlebih dahulu, seperti layaknya asuransi lain. "
   ]
  },
  {
   "cell_type": "markdown",
   "metadata": {
    "id": "4-oTdPw1k-A2"
   },
   "source": [
    "**1_2_Problem Statement**\n",
    "<br><br>\n",
    "Sebagai perusahaan asuransi, terbitlah sebuah kesulitan untuk menentukan keuntungan yang dibuat dari penjualan asuransi. Dengan itu, munculah 'Customer Lifetime Value' yang membantu memberi gambaran pengembalian finansial & investment dari customer, secara jangka pendek & jangka panjang. **Dengan itu, kemampuan untuk dapat memprediksi 'Customer Lifetime Value' menjadi sangat penting, agar sebuah perusahaan dapat menentukan apakah calon pemegang asuransi akan menciptakan keuntungan selama menjadi customer**\n"
   ]
  },
  {
   "cell_type": "markdown",
   "metadata": {
    "id": "RdtbYxCck-A3"
   },
   "source": [
    "**1_3_Goals**\n",
    "<br><br>\n",
    "Berdasarkan permasalahan tersebut, Sebuah perusahaan asuransi harus memiliki kemampuan untuk **meprediksi & menentukan angka 'Customer Lifetime Value'.** Adanya perbedaan pada berbagai fitur yang terdapat pada suatu customer, seperti tipe kendaraan, penghasilan pemilik, status kerja pemilik dapat menambah keakuratan prediksi 'Customer Lifetime Value' yang mana dapat mendatangkan profit bagi penjual asuransi."
   ]
  },
  {
   "cell_type": "markdown",
   "metadata": {
    "id": "cL9ZaGMtk-A4"
   },
   "source": [
    "**1_4_Analytic Approach**\n",
    "<br><br>\n",
    "Jadi, yang perlu kita lakukan adalah menganalisis data untuk dapat menemukan pola dari fitur-fitur yang ada, yang membedakan customer dengan yang lainnya. \n",
    "\n",
    "Selanjutnya, kita akan membangun suatu model regresi yang akan membantu perusahaan untuk dapat menyediakan 'tool' memprediksi 'Customer Lifetime Value' dari setiap customer / calon customer, yang akan berguna untuk melihat keuntungan jarak pendek & panjang dari setiap customer."
   ]
  },
  {
   "cell_type": "markdown",
   "metadata": {
    "id": "kRzB4C33k-A5"
   },
   "source": [
    "**1_5_Metric Evaluation**\n",
    "<br><br>\n",
    "Evaluasi metrik yang akan digunakan adalah RMSE, MAE, dan MAPE, di mana RMSE adalah nilai rataan akar kuadrat dari error, MAE adalah rataan nilai absolut dari error, sedangkan MAPE adalah rataan persentase error yang dihasilkan oleh model regresi. Semakin kecil nilai RMSE, MAE, dan MAPE yang dihasilkan, berarti model semakin akurat dalam memprediksi CLV sesuai dengan limitasi fitur yang digunakan. \n",
    "\n",
    "Selain itu, kita juga bisa menggunakan nilai R-squared atau adj. R-squared jika model yang nanti terpilih sebagai final model adalah model linear. Nilai R-squared digunakan untuk mengetahui seberapa baik model dapat merepresentasikan varians keseluruhan data. Semakin mendekati 1, maka semakin fit pula modelnya terhadap data observasi. Namun, metrik ini tidak valid untuk model non-linear."
   ]
  },
  {
   "cell_type": "markdown",
   "metadata": {},
   "source": [
    "### **2_Data Understanding**"
   ]
  },
  {
   "cell_type": "markdown",
   "metadata": {},
   "source": [
    "#### **2_1_Attribute Information**"
   ]
  },
  {
   "cell_type": "markdown",
   "metadata": {},
   "source": [
    "- Dataset merupakan data of estimasi total profit yang akan didapatkan dari customer selama orang tersebut masih menjadi customer.\n",
    "- Setiap baris data merepresentasikan informasi terkait seorang customer & mobil miliknya. \n",
    "\n",
    "<br>\n",
    "\n",
    "**Attributes Information**\n",
    "| **Attribute** | **Data Type** | **Description** |\n",
    "| --- | --- | --- |\n",
    "| Vehicle Class | Object | Car Type |\n",
    "| Coverage | Object | Insurance Coverage Type |\n",
    "| Renew Offer Type | Object | Type of insurance renewal |\n",
    "| EmploymentStatus | Object | Customer Employment Status |\n",
    "| Marital Status | Object | Customer Marital Status|\n",
    "| Education | Object | Customer Education Status |\n",
    "| Number of Policies | Float | Number of Policies |\n",
    "| Monthly Premium Auto | Float | Monthly Premium Amount |\n",
    "| Total Claim Amount | Float | Amount of Insurance Claimed |\n",
    "| Income | Float | Customer Income |\n",
    "| Customer Lifetime Value | Float | Value of Customer |\n",
    "\n",
    "\n",
    "<br>"
   ]
  },
  {
   "cell_type": "code",
   "execution_count": 428,
   "metadata": {},
   "outputs": [],
   "source": [
    "import pandas as pd\n",
    "import numpy as np\n",
    "import matplotlib.pyplot as plt\n",
    "import seaborn as sns\n",
    "\n",
    "import warnings\n",
    "warnings.filterwarnings('ignore')\n",
    "    "
   ]
  },
  {
   "cell_type": "code",
   "execution_count": 429,
   "metadata": {},
   "outputs": [
    {
     "data": {
      "text/html": [
       "<div>\n",
       "<style scoped>\n",
       "    .dataframe tbody tr th:only-of-type {\n",
       "        vertical-align: middle;\n",
       "    }\n",
       "\n",
       "    .dataframe tbody tr th {\n",
       "        vertical-align: top;\n",
       "    }\n",
       "\n",
       "    .dataframe thead th {\n",
       "        text-align: right;\n",
       "    }\n",
       "</style>\n",
       "<table border=\"1\" class=\"dataframe\">\n",
       "  <thead>\n",
       "    <tr style=\"text-align: right;\">\n",
       "      <th></th>\n",
       "      <th>Vehicle Class</th>\n",
       "      <th>Coverage</th>\n",
       "      <th>Renew Offer Type</th>\n",
       "      <th>EmploymentStatus</th>\n",
       "      <th>Marital Status</th>\n",
       "      <th>Education</th>\n",
       "      <th>Number of Policies</th>\n",
       "      <th>Monthly Premium Auto</th>\n",
       "      <th>Total Claim Amount</th>\n",
       "      <th>Income</th>\n",
       "      <th>Customer Lifetime Value</th>\n",
       "    </tr>\n",
       "  </thead>\n",
       "  <tbody>\n",
       "    <tr>\n",
       "      <th>0</th>\n",
       "      <td>Four-Door Car</td>\n",
       "      <td>Extended</td>\n",
       "      <td>Offer1</td>\n",
       "      <td>Retired</td>\n",
       "      <td>Divorced</td>\n",
       "      <td>High School or Below</td>\n",
       "      <td>2.0</td>\n",
       "      <td>90.0</td>\n",
       "      <td>571.479602</td>\n",
       "      <td>11828.0</td>\n",
       "      <td>10083.486880</td>\n",
       "    </tr>\n",
       "    <tr>\n",
       "      <th>1</th>\n",
       "      <td>Four-Door Car</td>\n",
       "      <td>Basic</td>\n",
       "      <td>Offer1</td>\n",
       "      <td>Employed</td>\n",
       "      <td>Married</td>\n",
       "      <td>College</td>\n",
       "      <td>6.0</td>\n",
       "      <td>62.0</td>\n",
       "      <td>114.514440</td>\n",
       "      <td>44762.0</td>\n",
       "      <td>4943.386117</td>\n",
       "    </tr>\n",
       "    <tr>\n",
       "      <th>2</th>\n",
       "      <td>Two-Door Car</td>\n",
       "      <td>Basic</td>\n",
       "      <td>Offer1</td>\n",
       "      <td>Retired</td>\n",
       "      <td>Married</td>\n",
       "      <td>Master</td>\n",
       "      <td>2.0</td>\n",
       "      <td>62.0</td>\n",
       "      <td>257.248789</td>\n",
       "      <td>21514.0</td>\n",
       "      <td>11981.984810</td>\n",
       "    </tr>\n",
       "    <tr>\n",
       "      <th>3</th>\n",
       "      <td>Four-Door Car</td>\n",
       "      <td>Premium</td>\n",
       "      <td>Offer3</td>\n",
       "      <td>Disabled</td>\n",
       "      <td>Married</td>\n",
       "      <td>High School or Below</td>\n",
       "      <td>1.0</td>\n",
       "      <td>116.0</td>\n",
       "      <td>556.800000</td>\n",
       "      <td>17913.0</td>\n",
       "      <td>4550.856045</td>\n",
       "    </tr>\n",
       "    <tr>\n",
       "      <th>4</th>\n",
       "      <td>Two-Door Car</td>\n",
       "      <td>Basic</td>\n",
       "      <td>Offer3</td>\n",
       "      <td>Medical Leave</td>\n",
       "      <td>Married</td>\n",
       "      <td>High School or Below</td>\n",
       "      <td>1.0</td>\n",
       "      <td>62.0</td>\n",
       "      <td>355.820799</td>\n",
       "      <td>19030.0</td>\n",
       "      <td>2372.155492</td>\n",
       "    </tr>\n",
       "  </tbody>\n",
       "</table>\n",
       "</div>"
      ],
      "text/plain": [
       "   Vehicle Class  Coverage Renew Offer Type EmploymentStatus Marital Status  \\\n",
       "0  Four-Door Car  Extended  Offer1           Retired          Divorced        \n",
       "1  Four-Door Car  Basic     Offer1           Employed         Married         \n",
       "2  Two-Door Car   Basic     Offer1           Retired          Married         \n",
       "3  Four-Door Car  Premium   Offer3           Disabled         Married         \n",
       "4  Two-Door Car   Basic     Offer3           Medical Leave    Married         \n",
       "\n",
       "              Education  Number of Policies  Monthly Premium Auto  \\\n",
       "0  High School or Below  2.0                 90.0                   \n",
       "1  College               6.0                 62.0                   \n",
       "2  Master                2.0                 62.0                   \n",
       "3  High School or Below  1.0                 116.0                  \n",
       "4  High School or Below  1.0                 62.0                   \n",
       "\n",
       "   Total Claim Amount   Income  Customer Lifetime Value  \n",
       "0  571.479602          11828.0  10083.486880             \n",
       "1  114.514440          44762.0  4943.386117              \n",
       "2  257.248789          21514.0  11981.984810             \n",
       "3  556.800000          17913.0  4550.856045              \n",
       "4  355.820799          19030.0  2372.155492              "
      ]
     },
     "execution_count": 429,
     "metadata": {},
     "output_type": "execute_result"
    }
   ],
   "source": [
    "df = pd.read_csv('data_customer_lifetime_value.csv')\n",
    "df.head()"
   ]
  },
  {
   "cell_type": "code",
   "execution_count": 430,
   "metadata": {},
   "outputs": [
    {
     "name": "stdout",
     "output_type": "stream",
     "text": [
      "<class 'pandas.core.frame.DataFrame'>\n",
      "RangeIndex: 5669 entries, 0 to 5668\n",
      "Data columns (total 11 columns):\n",
      " #   Column                   Non-Null Count  Dtype  \n",
      "---  ------                   --------------  -----  \n",
      " 0   Vehicle Class            5669 non-null   object \n",
      " 1   Coverage                 5669 non-null   object \n",
      " 2   Renew Offer Type         5669 non-null   object \n",
      " 3   EmploymentStatus         5669 non-null   object \n",
      " 4   Marital Status           5669 non-null   object \n",
      " 5   Education                5669 non-null   object \n",
      " 6   Number of Policies       5669 non-null   float64\n",
      " 7   Monthly Premium Auto     5669 non-null   float64\n",
      " 8   Total Claim Amount       5669 non-null   float64\n",
      " 9   Income                   5669 non-null   float64\n",
      " 10  Customer Lifetime Value  5669 non-null   float64\n",
      "dtypes: float64(5), object(6)\n",
      "memory usage: 487.3+ KB\n"
     ]
    }
   ],
   "source": [
    "df.info()"
   ]
  },
  {
   "cell_type": "code",
   "execution_count": 431,
   "metadata": {},
   "outputs": [
    {
     "data": {
      "image/png": "[encoded data removed]",
      "text/plain": [
       "<Figure size 432x288 with 1 Axes>"
      ]
     },
     "metadata": {
      "needs_background": "light"
     },
     "output_type": "display_data"
    }
   ],
   "source": [
    "# Missing value heatmap\n",
    "sns.heatmap(df.isnull(), cbar=False);"
   ]
  },
  {
   "cell_type": "code",
   "execution_count": 432,
   "metadata": {},
   "outputs": [
    {
     "data": {
      "text/html": [
       "<div>\n",
       "<style scoped>\n",
       "    .dataframe tbody tr th:only-of-type {\n",
       "        vertical-align: middle;\n",
       "    }\n",
       "\n",
       "    .dataframe tbody tr th {\n",
       "        vertical-align: top;\n",
       "    }\n",
       "\n",
       "    .dataframe thead th {\n",
       "        text-align: right;\n",
       "    }\n",
       "</style>\n",
       "<table border=\"1\" class=\"dataframe\">\n",
       "  <thead>\n",
       "    <tr style=\"text-align: right;\">\n",
       "      <th></th>\n",
       "      <th>Number of Policies</th>\n",
       "      <th>Monthly Premium Auto</th>\n",
       "      <th>Total Claim Amount</th>\n",
       "      <th>Income</th>\n",
       "      <th>Customer Lifetime Value</th>\n",
       "    </tr>\n",
       "  </thead>\n",
       "  <tbody>\n",
       "    <tr>\n",
       "      <th>count</th>\n",
       "      <td>5669.000000</td>\n",
       "      <td>5669.000000</td>\n",
       "      <td>5669.000000</td>\n",
       "      <td>5669.000000</td>\n",
       "      <td>5669.000000</td>\n",
       "    </tr>\n",
       "    <tr>\n",
       "      <th>mean</th>\n",
       "      <td>2.979361</td>\n",
       "      <td>93.026989</td>\n",
       "      <td>431.407103</td>\n",
       "      <td>37868.188569</td>\n",
       "      <td>8029.874592</td>\n",
       "    </tr>\n",
       "    <tr>\n",
       "      <th>std</th>\n",
       "      <td>2.393187</td>\n",
       "      <td>34.551795</td>\n",
       "      <td>287.558038</td>\n",
       "      <td>30490.490723</td>\n",
       "      <td>6916.708246</td>\n",
       "    </tr>\n",
       "    <tr>\n",
       "      <th>min</th>\n",
       "      <td>1.000000</td>\n",
       "      <td>61.000000</td>\n",
       "      <td>0.423310</td>\n",
       "      <td>0.000000</td>\n",
       "      <td>1898.007675</td>\n",
       "    </tr>\n",
       "    <tr>\n",
       "      <th>25%</th>\n",
       "      <td>1.000000</td>\n",
       "      <td>68.000000</td>\n",
       "      <td>266.932542</td>\n",
       "      <td>0.000000</td>\n",
       "      <td>3954.344534</td>\n",
       "    </tr>\n",
       "    <tr>\n",
       "      <th>50%</th>\n",
       "      <td>2.000000</td>\n",
       "      <td>82.000000</td>\n",
       "      <td>379.200000</td>\n",
       "      <td>34322.000000</td>\n",
       "      <td>5800.188903</td>\n",
       "    </tr>\n",
       "    <tr>\n",
       "      <th>75%</th>\n",
       "      <td>4.000000</td>\n",
       "      <td>109.000000</td>\n",
       "      <td>549.986128</td>\n",
       "      <td>62464.000000</td>\n",
       "      <td>9031.214859</td>\n",
       "    </tr>\n",
       "    <tr>\n",
       "      <th>max</th>\n",
       "      <td>9.000000</td>\n",
       "      <td>297.000000</td>\n",
       "      <td>2759.794354</td>\n",
       "      <td>99934.000000</td>\n",
       "      <td>83325.381190</td>\n",
       "    </tr>\n",
       "  </tbody>\n",
       "</table>\n",
       "</div>"
      ],
      "text/plain": [
       "       Number of Policies  Monthly Premium Auto  Total Claim Amount  \\\n",
       "count  5669.000000         5669.000000           5669.000000          \n",
       "mean   2.979361            93.026989             431.407103           \n",
       "std    2.393187            34.551795             287.558038           \n",
       "min    1.000000            61.000000             0.423310             \n",
       "25%    1.000000            68.000000             266.932542           \n",
       "50%    2.000000            82.000000             379.200000           \n",
       "75%    4.000000            109.000000            549.986128           \n",
       "max    9.000000            297.000000            2759.794354          \n",
       "\n",
       "             Income  Customer Lifetime Value  \n",
       "count  5669.000000   5669.000000              \n",
       "mean   37868.188569  8029.874592              \n",
       "std    30490.490723  6916.708246              \n",
       "min    0.000000      1898.007675              \n",
       "25%    0.000000      3954.344534              \n",
       "50%    34322.000000  5800.188903              \n",
       "75%    62464.000000  9031.214859              \n",
       "max    99934.000000  83325.381190             "
      ]
     },
     "metadata": {},
     "output_type": "display_data"
    },
    {
     "data": {
      "text/html": [
       "<div>\n",
       "<style scoped>\n",
       "    .dataframe tbody tr th:only-of-type {\n",
       "        vertical-align: middle;\n",
       "    }\n",
       "\n",
       "    .dataframe tbody tr th {\n",
       "        vertical-align: top;\n",
       "    }\n",
       "\n",
       "    .dataframe thead th {\n",
       "        text-align: right;\n",
       "    }\n",
       "</style>\n",
       "<table border=\"1\" class=\"dataframe\">\n",
       "  <thead>\n",
       "    <tr style=\"text-align: right;\">\n",
       "      <th></th>\n",
       "      <th>Vehicle Class</th>\n",
       "      <th>Coverage</th>\n",
       "      <th>Renew Offer Type</th>\n",
       "      <th>EmploymentStatus</th>\n",
       "      <th>Marital Status</th>\n",
       "      <th>Education</th>\n",
       "    </tr>\n",
       "  </thead>\n",
       "  <tbody>\n",
       "    <tr>\n",
       "      <th>count</th>\n",
       "      <td>5669</td>\n",
       "      <td>5669</td>\n",
       "      <td>5669</td>\n",
       "      <td>5669</td>\n",
       "      <td>5669</td>\n",
       "      <td>5669</td>\n",
       "    </tr>\n",
       "    <tr>\n",
       "      <th>unique</th>\n",
       "      <td>6</td>\n",
       "      <td>3</td>\n",
       "      <td>4</td>\n",
       "      <td>5</td>\n",
       "      <td>3</td>\n",
       "      <td>5</td>\n",
       "    </tr>\n",
       "    <tr>\n",
       "      <th>top</th>\n",
       "      <td>Four-Door Car</td>\n",
       "      <td>Basic</td>\n",
       "      <td>Offer1</td>\n",
       "      <td>Employed</td>\n",
       "      <td>Married</td>\n",
       "      <td>Bachelor</td>\n",
       "    </tr>\n",
       "    <tr>\n",
       "      <th>freq</th>\n",
       "      <td>2858</td>\n",
       "      <td>3477</td>\n",
       "      <td>2292</td>\n",
       "      <td>3541</td>\n",
       "      <td>3305</td>\n",
       "      <td>1703</td>\n",
       "    </tr>\n",
       "  </tbody>\n",
       "</table>\n",
       "</div>"
      ],
      "text/plain": [
       "        Vehicle Class Coverage Renew Offer Type EmploymentStatus  \\\n",
       "count   5669           5669     5669             5669              \n",
       "unique  6              3        4                5                 \n",
       "top     Four-Door Car  Basic    Offer1           Employed          \n",
       "freq    2858           3477     2292             3541              \n",
       "\n",
       "       Marital Status Education  \n",
       "count   5669           5669      \n",
       "unique  3              5         \n",
       "top     Married        Bachelor  \n",
       "freq    3305           1703      "
      ]
     },
     "metadata": {},
     "output_type": "display_data"
    }
   ],
   "source": [
    "display(df.describe(), df.describe(include='object'))"
   ]
  },
  {
   "cell_type": "code",
   "execution_count": 433,
   "metadata": {},
   "outputs": [
    {
     "data": {
      "text/html": [
       "<div>\n",
       "<style scoped>\n",
       "    .dataframe tbody tr th:only-of-type {\n",
       "        vertical-align: middle;\n",
       "    }\n",
       "\n",
       "    .dataframe tbody tr th {\n",
       "        vertical-align: top;\n",
       "    }\n",
       "\n",
       "    .dataframe thead th {\n",
       "        text-align: right;\n",
       "    }\n",
       "</style>\n",
       "<table border=\"1\" class=\"dataframe\">\n",
       "  <thead>\n",
       "    <tr style=\"text-align: right;\">\n",
       "      <th></th>\n",
       "      <th>Column Name</th>\n",
       "      <th>Number of Unique</th>\n",
       "      <th>Unique Sample</th>\n",
       "    </tr>\n",
       "  </thead>\n",
       "  <tbody>\n",
       "    <tr>\n",
       "      <th>0</th>\n",
       "      <td>Vehicle Class</td>\n",
       "      <td>6</td>\n",
       "      <td>[Four-Door Car, Two-Door Car, SUV, Sports Car, Luxury SUV, Luxury Car]</td>\n",
       "    </tr>\n",
       "    <tr>\n",
       "      <th>1</th>\n",
       "      <td>Coverage</td>\n",
       "      <td>3</td>\n",
       "      <td>[Extended, Basic, Premium]</td>\n",
       "    </tr>\n",
       "    <tr>\n",
       "      <th>2</th>\n",
       "      <td>Renew Offer Type</td>\n",
       "      <td>4</td>\n",
       "      <td>[Offer1, Offer3, Offer2, Offer4]</td>\n",
       "    </tr>\n",
       "    <tr>\n",
       "      <th>3</th>\n",
       "      <td>EmploymentStatus</td>\n",
       "      <td>5</td>\n",
       "      <td>[Retired, Employed, Disabled, Medical Leave, Unemployed]</td>\n",
       "    </tr>\n",
       "    <tr>\n",
       "      <th>4</th>\n",
       "      <td>Marital Status</td>\n",
       "      <td>3</td>\n",
       "      <td>[Divorced, Married, Single]</td>\n",
       "    </tr>\n",
       "    <tr>\n",
       "      <th>5</th>\n",
       "      <td>Education</td>\n",
       "      <td>5</td>\n",
       "      <td>[High School or Below, College, Master, Bachelor, Doctor]</td>\n",
       "    </tr>\n",
       "    <tr>\n",
       "      <th>6</th>\n",
       "      <td>Number of Policies</td>\n",
       "      <td>9</td>\n",
       "      <td>[2.0, 6.0, 1.0, 8.0, 5.0, 3.0, 7.0, 4.0, 9.0]</td>\n",
       "    </tr>\n",
       "    <tr>\n",
       "      <th>7</th>\n",
       "      <td>Monthly Premium Auto</td>\n",
       "      <td>191</td>\n",
       "      <td>[90.0, 62.0, 116.0, 107.0, 101.0, 66.0, 65.0, 117.0, 78.0, 63.0, 70.0, 71.0, 61.0, 64.0, 129.0, 100.0, 68.0, 126.0, 95.0, 128.0, 84.0, 125.0, 98.0, 97.0, 121.0, 192.0, 69.0, 83.0, 72.0, 67.0, 103.0, 74.0, 89.0, 86.0, 110.0, 124.0, 73.0, 191.0, 122.0, 133.0, 165.0, 127.0, 144.0, 114.0, 194.0, 118.0, 111.0, 138.0, 119.0, 76.0, 80.0, 154.0, 189.0, 130.0, 109.0, 161.0, 88.0, 93.0, 113.0, 87.0, 136.0, 106.0, 99.0, 105.0, 82.0, 96.0, 159.0, 181.0, 146.0, 115.0, 187.0, 108.0, 209.0, 102.0, 104.0, 77.0, 79.0, 283.0, 150.0, 92.0, 91.0, 180.0, 131.0, 112.0, 184.0, 137.0, 185.0, 94.0, 198.0, 135.0, 140.0, 132.0, 139.0, 85.0, 123.0, 214.0, 201.0, 155.0, 193.0, 81.0, ...]</td>\n",
       "    </tr>\n",
       "    <tr>\n",
       "      <th>8</th>\n",
       "      <td>Total Claim Amount</td>\n",
       "      <td>3274</td>\n",
       "      <td>[571.479602, 114.51444, 257.248789, 556.8, 355.820799, 85.063708, 584.567645, 144.987956, 264.563772, 582.781896, 39.781368, 227.44626, 347.857619, 239.328571, 340.8, 439.2, 307.2, 1178.950186, 480.0, 350.65008, 51.961915, 907.2, 423.787608, 234.683628, 456.0, 614.4, 475.2, 286.781601, 788.206874, 600.0, 265.877583, 513.6, 196.37368, 312.0, 335.840529, 580.8, 1921.248929, 331.2, 389.636991, 229.620398, 159.266473, 291.91645, 321.6, 685.227276, 355.2, 616.005527, 395.729716, 302.4, 287.5426, 528.0, 282.500791, 135.892444, 316.8, 525.6, 604.8, 981.010879, 650.52179, 668.29397, 349.954886, 345.6, 638.4, 1452.213743, 609.6, 93.128128, 297.6, 292.8, 268.471802, 624.023564, 245.447622, 476.903351, 624.711448, 820.431905, 547.2, 469.257835, 1067.291208, 416.2618, 566.4, 40.622304, 497.126827, 314.880326, 938.513425, 307.639408, 482.4, 29.984815, 290.70096, 30.874869, 199.79727, 384.0, 41.464402, 739.2, 571.2, 460.741097, 532.8, 206.810286, 199.851173, 799.2, 142.205246, 114.815893, 44.284642, 336.0, ...]</td>\n",
       "    </tr>\n",
       "    <tr>\n",
       "      <th>9</th>\n",
       "      <td>Income</td>\n",
       "      <td>3625</td>\n",
       "      <td>[11828.0, 44762.0, 21514.0, 17913.0, 19030.0, 94389.0, 25419.0, 26477.0, 36615.0, 59624.0, 37813.0, 35624.0, 24910.0, 62739.0, 18608.0, 46210.0, 0.0, 15192.0, 50397.0, 82210.0, 22538.0, 31614.0, 78358.0, 36510.0, 51962.0, 45345.0, 62039.0, 66550.0, 71134.0, 26721.0, 66726.0, 40672.0, 44685.0, 78804.0, 23616.0, 38667.0, 59961.0, 57117.0, 25221.0, 33806.0, 46051.0, 42526.0, 43963.0, 52819.0, 50450.0, 51972.0, 72421.0, 38183.0, 20325.0, 51032.0, 20567.0, 23671.0, 45302.0, 21102.0, 53565.0, 59797.0, 47509.0, 22239.0, 14665.0, 64801.0, 44986.0, 43817.0, 36845.0, 49259.0, 26486.0, 56446.0, 67787.0, 89464.0, 22475.0, 31972.0, 58089.0, 41990.0, 84903.0, 67137.0, 21450.0, 99874.0, 26100.0, 31275.0, 71186.0, 91580.0, 69417.0, 88592.0, 26806.0, 23656.0, 94527.0, 44096.0, 66839.0, 18643.0, 58682.0, 87002.0, 47725.0, 22244.0, 26245.0, 61085.0, 62464.0, 48367.0, 59207.0, 75007.0, 72874.0, 72540.0, ...]</td>\n",
       "    </tr>\n",
       "    <tr>\n",
       "      <th>10</th>\n",
       "      <td>Customer Lifetime Value</td>\n",
       "      <td>5049</td>\n",
       "      <td>[10083.48688, 4943.386117, 11981.98481, 4550.856045, 2372.155492, 8649.700578, 12052.98409, 2621.116054, 5243.828046, 9156.322563, 6259.510365, 19237.77089, 2248.449633, 5581.761298, 2538.62632, 2402.333284, 4774.751709, 4711.845199, 3832.118106, 2813.50617, 2687.314108, 4531.675269, 2554.033928, 5420.361822, 6846.150323, 10307.65258, 2239.647297, 6721.893743, 4804.35851, 14696.63549, 5396.311664, 25674.14895, 7708.883885, 6747.524275, 7661.388132, 9559.340024, 6745.248379, 24723.18311, 25763.41423, 6610.048274, 2787.423683, 2640.58732, 2656.99458, 3771.617797, 2502.209885, 3818.468252, 27789.69235, 2489.337928, 3417.204953, 8673.587, 4880.713626, 10640.93932, 7814.604545, 5510.558964, 13727.79972, 2592.437797, 15277.47796, 9031.214859, 3803.921781, 3339.853704, 2449.128459, 8060.161694, 16007.94954, 11714.78278, 5569.456156, 16350.13061, 15261.41386, 2588.080213, 2404.633766, 4558.428807, 7582.113842, 8041.20055, 12302.76244, 3370.074728, 2326.864833, 2903.024168, 44520.13577, 14754.35923, 9118.148093, 7751.927614, 15415.04407, 2513.117202, 5580.916514, 4686.469674, 2626.279436, 6961.945557, 4475.424592, 8176.576796, 10937.1785, 4807.846463, 2482.411991, 5205.748188, 5399.57618, 8870.673845, 2842.266905, 18321.41903, 7019.177186, 2926.5223, 5860.16743, 25253.10198, ...]</td>\n",
       "    </tr>\n",
       "  </tbody>\n",
       "</table>\n",
       "</div>"
      ],
      "text/plain": [
       "                Column Name  Number of Unique  \\\n",
       "0   Vehicle Class            6                  \n",
       "1   Coverage                 3                  \n",
       "2   Renew Offer Type         4                  \n",
       "3   EmploymentStatus         5                  \n",
       "4   Marital Status           3                  \n",
       "5   Education                5                  \n",
       "6   Number of Policies       9                  \n",
       "7   Monthly Premium Auto     191                \n",
       "8   Total Claim Amount       3274               \n",
       "9   Income                   3625               \n",
       "10  Customer Lifetime Value  5049               \n",
       "\n",
       "                                                                                                                                                                                                                                                                                                                                                                                                                                                                                                                                                                                                                                                                                                                                                                                                                                                                                                                                                                                                                                                                                                                                                                                                                                                                                                                                  Unique Sample  \n",
       "0   [Four-Door Car, Two-Door Car, SUV, Sports Car, Luxury SUV, Luxury Car]                                                                                                                                                                                                                                                                                                                                                                                                                                                                                                                                                                                                                                                                                                                                                                                                                                                                                                                                                                                                                                                                                                                                                                                                                                                                       \n",
       "1   [Extended, Basic, Premium]                                                                                                                                                                                                                                                                                                                                                                                                                                                                                                                                                                                                                                                                                                                                                                                                                                                                                                                                                                                                                                                                                                                                                                                                                                                                                                                   \n",
       "2   [Offer1, Offer3, Offer2, Offer4]                                                                                                                                                                                                                                                                                                                                                                                                                                                                                                                                                                                                                                                                                                                                                                                                                                                                                                                                                                                                                                                                                                                                                                                                                                                                                                             \n",
       "3   [Retired, Employed, Disabled, Medical Leave, Unemployed]                                                                                                                                                                                                                                                                                                                                                                                                                                                                                                                                                                                                                                                                                                                                                                                                                                                                                                                                                                                                                                                                                                                                                                                                                                                                                     \n",
       "4   [Divorced, Married, Single]                                                                                                                                                                                                                                                                                                                                                                                                                                                                                                                                                                                                                                                                                                                                                                                                                                                                                                                                                                                                                                                                                                                                                                                                                                                                                                                  \n",
       "5   [High School or Below, College, Master, Bachelor, Doctor]                                                                                                                                                                                                                                                                                                                                                                                                                                                                                                                                                                                                                                                                                                                                                                                                                                                                                                                                                                                                                                                                                                                                                                                                                                                                                    \n",
       "6   [2.0, 6.0, 1.0, 8.0, 5.0, 3.0, 7.0, 4.0, 9.0]                                                                                                                                                                                                                                                                                                                                                                                                                                                                                                                                                                                                                                                                                                                                                                                                                                                                                                                                                                                                                                                                                                                                                                                                                                                                                                \n",
       "7   [90.0, 62.0, 116.0, 107.0, 101.0, 66.0, 65.0, 117.0, 78.0, 63.0, 70.0, 71.0, 61.0, 64.0, 129.0, 100.0, 68.0, 126.0, 95.0, 128.0, 84.0, 125.0, 98.0, 97.0, 121.0, 192.0, 69.0, 83.0, 72.0, 67.0, 103.0, 74.0, 89.0, 86.0, 110.0, 124.0, 73.0, 191.0, 122.0, 133.0, 165.0, 127.0, 144.0, 114.0, 194.0, 118.0, 111.0, 138.0, 119.0, 76.0, 80.0, 154.0, 189.0, 130.0, 109.0, 161.0, 88.0, 93.0, 113.0, 87.0, 136.0, 106.0, 99.0, 105.0, 82.0, 96.0, 159.0, 181.0, 146.0, 115.0, 187.0, 108.0, 209.0, 102.0, 104.0, 77.0, 79.0, 283.0, 150.0, 92.0, 91.0, 180.0, 131.0, 112.0, 184.0, 137.0, 185.0, 94.0, 198.0, 135.0, 140.0, 132.0, 139.0, 85.0, 123.0, 214.0, 201.0, 155.0, 193.0, 81.0, ...]                                                                                                                                                                                                                                                                                                                                                                                                                                                                                                                                                                                                                                                  \n",
       "8   [571.479602, 114.51444, 257.248789, 556.8, 355.820799, 85.063708, 584.567645, 144.987956, 264.563772, 582.781896, 39.781368, 227.44626, 347.857619, 239.328571, 340.8, 439.2, 307.2, 1178.950186, 480.0, 350.65008, 51.961915, 907.2, 423.787608, 234.683628, 456.0, 614.4, 475.2, 286.781601, 788.206874, 600.0, 265.877583, 513.6, 196.37368, 312.0, 335.840529, 580.8, 1921.248929, 331.2, 389.636991, 229.620398, 159.266473, 291.91645, 321.6, 685.227276, 355.2, 616.005527, 395.729716, 302.4, 287.5426, 528.0, 282.500791, 135.892444, 316.8, 525.6, 604.8, 981.010879, 650.52179, 668.29397, 349.954886, 345.6, 638.4, 1452.213743, 609.6, 93.128128, 297.6, 292.8, 268.471802, 624.023564, 245.447622, 476.903351, 624.711448, 820.431905, 547.2, 469.257835, 1067.291208, 416.2618, 566.4, 40.622304, 497.126827, 314.880326, 938.513425, 307.639408, 482.4, 29.984815, 290.70096, 30.874869, 199.79727, 384.0, 41.464402, 739.2, 571.2, 460.741097, 532.8, 206.810286, 199.851173, 799.2, 142.205246, 114.815893, 44.284642, 336.0, ...]                                                                                                                                                                                                                                                                                         \n",
       "9   [11828.0, 44762.0, 21514.0, 17913.0, 19030.0, 94389.0, 25419.0, 26477.0, 36615.0, 59624.0, 37813.0, 35624.0, 24910.0, 62739.0, 18608.0, 46210.0, 0.0, 15192.0, 50397.0, 82210.0, 22538.0, 31614.0, 78358.0, 36510.0, 51962.0, 45345.0, 62039.0, 66550.0, 71134.0, 26721.0, 66726.0, 40672.0, 44685.0, 78804.0, 23616.0, 38667.0, 59961.0, 57117.0, 25221.0, 33806.0, 46051.0, 42526.0, 43963.0, 52819.0, 50450.0, 51972.0, 72421.0, 38183.0, 20325.0, 51032.0, 20567.0, 23671.0, 45302.0, 21102.0, 53565.0, 59797.0, 47509.0, 22239.0, 14665.0, 64801.0, 44986.0, 43817.0, 36845.0, 49259.0, 26486.0, 56446.0, 67787.0, 89464.0, 22475.0, 31972.0, 58089.0, 41990.0, 84903.0, 67137.0, 21450.0, 99874.0, 26100.0, 31275.0, 71186.0, 91580.0, 69417.0, 88592.0, 26806.0, 23656.0, 94527.0, 44096.0, 66839.0, 18643.0, 58682.0, 87002.0, 47725.0, 22244.0, 26245.0, 61085.0, 62464.0, 48367.0, 59207.0, 75007.0, 72874.0, 72540.0, ...]                                                                                                                                                                                                                                                                                                                                                                                                        \n",
       "10  [10083.48688, 4943.386117, 11981.98481, 4550.856045, 2372.155492, 8649.700578, 12052.98409, 2621.116054, 5243.828046, 9156.322563, 6259.510365, 19237.77089, 2248.449633, 5581.761298, 2538.62632, 2402.333284, 4774.751709, 4711.845199, 3832.118106, 2813.50617, 2687.314108, 4531.675269, 2554.033928, 5420.361822, 6846.150323, 10307.65258, 2239.647297, 6721.893743, 4804.35851, 14696.63549, 5396.311664, 25674.14895, 7708.883885, 6747.524275, 7661.388132, 9559.340024, 6745.248379, 24723.18311, 25763.41423, 6610.048274, 2787.423683, 2640.58732, 2656.99458, 3771.617797, 2502.209885, 3818.468252, 27789.69235, 2489.337928, 3417.204953, 8673.587, 4880.713626, 10640.93932, 7814.604545, 5510.558964, 13727.79972, 2592.437797, 15277.47796, 9031.214859, 3803.921781, 3339.853704, 2449.128459, 8060.161694, 16007.94954, 11714.78278, 5569.456156, 16350.13061, 15261.41386, 2588.080213, 2404.633766, 4558.428807, 7582.113842, 8041.20055, 12302.76244, 3370.074728, 2326.864833, 2903.024168, 44520.13577, 14754.35923, 9118.148093, 7751.927614, 15415.04407, 2513.117202, 5580.916514, 4686.469674, 2626.279436, 6961.945557, 4475.424592, 8176.576796, 10937.1785, 4807.846463, 2482.411991, 5205.748188, 5399.57618, 8870.673845, 2842.266905, 18321.41903, 7019.177186, 2926.5223, 5860.16743, 25253.10198, ...]  "
      ]
     },
     "execution_count": 433,
     "metadata": {},
     "output_type": "execute_result"
    }
   ],
   "source": [
    "pd.set_option('display.max_colwidth', -1)\n",
    "# data unik di tiap kolom\n",
    "listItem = []\n",
    "for col in df.columns :\n",
    "    listItem.append( [col, df[col].nunique(), df[col].unique()])\n",
    "\n",
    "tabel1Desc = pd.DataFrame(columns=['Column Name', 'Number of Unique', 'Unique Sample'],\n",
    "                     data=listItem)\n",
    "tabel1Desc"
   ]
  },
  {
   "cell_type": "markdown",
   "metadata": {
    "id": "L6JewKcak-A-"
   },
   "source": [
    "#### **2_2_Exploratory Data Analysis**"
   ]
  },
  {
   "cell_type": "markdown",
   "metadata": {
    "id": "ddvcLtH7k-A-"
   },
   "source": [
    "##### **2_2_1_Distribution of Customer Lifetime Value**"
   ]
  },
  {
   "cell_type": "code",
   "execution_count": 434,
   "metadata": {
    "id": "j9neglkak-A_",
    "outputId": "5ae210ab-29fc-4c36-c4bd-7e9c026bb987"
   },
   "outputs": [
    {
     "data": {
      "image/png": "[encoded data removed]",
      "text/plain": [
       "<Figure size 504x504 with 1 Axes>"
      ]
     },
     "metadata": {
      "needs_background": "light"
     },
     "output_type": "display_data"
    }
   ],
   "source": [
    "# Plot distribusi fitur 'Customer Lifetime Value'\n",
    "plt.figure(figsize=(7, 7))\n",
    "sns.distplot(df['Customer Lifetime Value'])\n",
    "plt.title('Customer Lifetime Value Distribution Plot', size=15, weight='bold');"
   ]
  },
  {
   "cell_type": "markdown",
   "metadata": {
    "id": "s2RTEo8ik-A_"
   },
   "source": [
    "Konklusi\n",
    "Berdasarkan plot distribusi Customer Lifetime Value di atas, terlihat bahwa terdapat 'right-skewed distribution'. Dengan kata lain, terdapat skewness positif pada fitur Customer Lifetime Value."
   ]
  },
  {
   "cell_type": "markdown",
   "metadata": {},
   "source": [
    "##### **2_2_2_Types of Customer related to CLV**"
   ]
  },
  {
   "cell_type": "code",
   "execution_count": 435,
   "metadata": {
    "id": "lF7UOsPDk-BA",
    "outputId": "3164fded-851a-47d3-d7c3-f19d83fc2217"
   },
   "outputs": [
    {
     "name": "stdout",
     "output_type": "stream",
     "text": [
      "\n",
      "Jumlah Customer di tiap Insurance Coverage group:\n",
      "Basic       3477\n",
      "Extended    1704\n",
      "Premium     488 \n",
      "Name: Coverage, dtype: int64\n",
      "\n",
      "Jumlah Customer di tiap EmploymentStatus group:\n",
      "Employed         3541\n",
      "Unemployed       1429\n",
      "Medical Leave    267 \n",
      "Disabled         252 \n",
      "Retired          180 \n",
      "Name: EmploymentStatus, dtype: int64\n",
      "\n",
      "Jumlah Customer di tiap Marital Status group:\n",
      "Married     3305\n",
      "Single      1514\n",
      "Divorced    850 \n",
      "Name: Marital Status, dtype: int64\n",
      "\n",
      "Jumlah Customer di tiap Education group:\n",
      "Bachelor                1703\n",
      "College                 1660\n",
      "High School or Below    1620\n",
      "Master                  460 \n",
      "Doctor                  226 \n",
      "Name: Education, dtype: int64\n"
     ]
    }
   ],
   "source": [
    "# Cek jumlah Customer berdasarkan tipe asuransi, status pekerjaan, status menikah, dan edukasi\n",
    "print(f\"\\nJumlah Customer di tiap Insurance Coverage group:\\n{df['Coverage'].value_counts()}\")\n",
    "print(f\"\\nJumlah Customer di tiap EmploymentStatus group:\\n{df['EmploymentStatus'].value_counts()}\")\n",
    "print(f\"\\nJumlah Customer di tiap Marital Status group:\\n{df['Marital Status'].value_counts()}\")\n",
    "print(f\"\\nJumlah Customer di tiap Education group:\\n{df['Education'].value_counts()}\")"
   ]
  },
  {
   "cell_type": "markdown",
   "metadata": {},
   "source": [
    "Konklusi tipe customer\n",
    "Kebanyakan Customer sedang memiliki pekerjaan, sudah menikah, dan lulusan S1."
   ]
  },
  {
   "cell_type": "code",
   "execution_count": 436,
   "metadata": {},
   "outputs": [
    {
     "data": {
      "text/html": [
       "<div>\n",
       "<style scoped>\n",
       "    .dataframe tbody tr th:only-of-type {\n",
       "        vertical-align: middle;\n",
       "    }\n",
       "\n",
       "    .dataframe tbody tr th {\n",
       "        vertical-align: top;\n",
       "    }\n",
       "\n",
       "    .dataframe thead th {\n",
       "        text-align: right;\n",
       "    }\n",
       "</style>\n",
       "<table border=\"1\" class=\"dataframe\">\n",
       "  <thead>\n",
       "    <tr style=\"text-align: right;\">\n",
       "      <th></th>\n",
       "      <th>EmploymentStatus</th>\n",
       "      <th>Customer Lifetime Value</th>\n",
       "    </tr>\n",
       "  </thead>\n",
       "  <tbody>\n",
       "    <tr>\n",
       "      <th>0</th>\n",
       "      <td>Employed</td>\n",
       "      <td>5879.176092</td>\n",
       "    </tr>\n",
       "    <tr>\n",
       "      <th>1</th>\n",
       "      <td>Unemployed</td>\n",
       "      <td>5714.246379</td>\n",
       "    </tr>\n",
       "    <tr>\n",
       "      <th>2</th>\n",
       "      <td>Disabled</td>\n",
       "      <td>5585.963531</td>\n",
       "    </tr>\n",
       "    <tr>\n",
       "      <th>3</th>\n",
       "      <td>Medical Leave</td>\n",
       "      <td>5253.487908</td>\n",
       "    </tr>\n",
       "    <tr>\n",
       "      <th>4</th>\n",
       "      <td>Retired</td>\n",
       "      <td>4904.894731</td>\n",
       "    </tr>\n",
       "  </tbody>\n",
       "</table>\n",
       "</div>"
      ],
      "text/plain": [
       "  EmploymentStatus  Customer Lifetime Value\n",
       "0  Employed         5879.176092            \n",
       "1  Unemployed       5714.246379            \n",
       "2  Disabled         5585.963531            \n",
       "3  Medical Leave    5253.487908            \n",
       "4  Retired          4904.894731            "
      ]
     },
     "execution_count": 436,
     "metadata": {},
     "output_type": "execute_result"
    }
   ],
   "source": [
    "# Cek median clv untuk tiap Employement Status\n",
    "df_median_clv = df.groupby(by=['EmploymentStatus']).agg({'Customer Lifetime Value':'median'}).reset_index()\n",
    "df_median_clv = df_median_clv.set_index('EmploymentStatus')\n",
    "df_median_clv = df_median_clv.sort_values('Customer Lifetime Value', ascending =False)\n",
    "df_median_clv.head().reset_index()"
   ]
  },
  {
   "cell_type": "code",
   "execution_count": 437,
   "metadata": {},
   "outputs": [
    {
     "data": {
      "text/html": [
       "<div>\n",
       "<style scoped>\n",
       "    .dataframe tbody tr th:only-of-type {\n",
       "        vertical-align: middle;\n",
       "    }\n",
       "\n",
       "    .dataframe tbody tr th {\n",
       "        vertical-align: top;\n",
       "    }\n",
       "\n",
       "    .dataframe thead th {\n",
       "        text-align: right;\n",
       "    }\n",
       "</style>\n",
       "<table border=\"1\" class=\"dataframe\">\n",
       "  <thead>\n",
       "    <tr style=\"text-align: right;\">\n",
       "      <th></th>\n",
       "      <th>Customer Lifetime Value</th>\n",
       "    </tr>\n",
       "    <tr>\n",
       "      <th>EmploymentStatus</th>\n",
       "      <th></th>\n",
       "    </tr>\n",
       "  </thead>\n",
       "  <tbody>\n",
       "    <tr>\n",
       "      <th>Employed</th>\n",
       "      <td>8216.722403</td>\n",
       "    </tr>\n",
       "    <tr>\n",
       "      <th>Medical Leave</th>\n",
       "      <td>8048.676877</td>\n",
       "    </tr>\n",
       "    <tr>\n",
       "      <th>Disabled</th>\n",
       "      <td>7776.810758</td>\n",
       "    </tr>\n",
       "    <tr>\n",
       "      <th>Unemployed</th>\n",
       "      <td>7684.433265</td>\n",
       "    </tr>\n",
       "    <tr>\n",
       "      <th>Retired</th>\n",
       "      <td>7422.982546</td>\n",
       "    </tr>\n",
       "  </tbody>\n",
       "</table>\n",
       "</div>"
      ],
      "text/plain": [
       "                  Customer Lifetime Value\n",
       "EmploymentStatus                         \n",
       "Employed          8216.722403            \n",
       "Medical Leave     8048.676877            \n",
       "Disabled          7776.810758            \n",
       "Unemployed        7684.433265            \n",
       "Retired           7422.982546            "
      ]
     },
     "execution_count": 437,
     "metadata": {},
     "output_type": "execute_result"
    }
   ],
   "source": [
    "# Cek mean clv untuk tiap Employement Status\n",
    "df.groupby('EmploymentStatus').mean()[['Customer Lifetime Value']].sort_values('Customer Lifetime Value',ascending=False)"
   ]
  },
  {
   "cell_type": "markdown",
   "metadata": {},
   "source": [
    "konklusi Status Pekerjaan\n",
    "median & mean customer lifetime value tertinggi ada pada customer dengan employment status Employed / memiliki pekerjaan"
   ]
  },
  {
   "cell_type": "code",
   "execution_count": 438,
   "metadata": {},
   "outputs": [
    {
     "data": {
      "text/html": [
       "<div>\n",
       "<style scoped>\n",
       "    .dataframe tbody tr th:only-of-type {\n",
       "        vertical-align: middle;\n",
       "    }\n",
       "\n",
       "    .dataframe tbody tr th {\n",
       "        vertical-align: top;\n",
       "    }\n",
       "\n",
       "    .dataframe thead th {\n",
       "        text-align: right;\n",
       "    }\n",
       "</style>\n",
       "<table border=\"1\" class=\"dataframe\">\n",
       "  <thead>\n",
       "    <tr style=\"text-align: right;\">\n",
       "      <th>Education</th>\n",
       "      <th>Bachelor</th>\n",
       "      <th>College</th>\n",
       "      <th>Doctor</th>\n",
       "      <th>High School or Below</th>\n",
       "      <th>Master</th>\n",
       "    </tr>\n",
       "    <tr>\n",
       "      <th>EmploymentStatus</th>\n",
       "      <th></th>\n",
       "      <th></th>\n",
       "      <th></th>\n",
       "      <th></th>\n",
       "      <th></th>\n",
       "    </tr>\n",
       "  </thead>\n",
       "  <tbody>\n",
       "    <tr>\n",
       "      <th>Disabled</th>\n",
       "      <td>4879.433721</td>\n",
       "      <td>5594.322987</td>\n",
       "      <td>4218.099041</td>\n",
       "      <td>6957.448957</td>\n",
       "      <td>5884.327125</td>\n",
       "    </tr>\n",
       "    <tr>\n",
       "      <th>Employed</th>\n",
       "      <td>5898.733666</td>\n",
       "      <td>5788.118159</td>\n",
       "      <td>5509.105600</td>\n",
       "      <td>6230.902189</td>\n",
       "      <td>5711.478251</td>\n",
       "    </tr>\n",
       "    <tr>\n",
       "      <th>Medical Leave</th>\n",
       "      <td>4770.739040</td>\n",
       "      <td>5398.046242</td>\n",
       "      <td>9125.863218</td>\n",
       "      <td>5274.200760</td>\n",
       "      <td>5507.242176</td>\n",
       "    </tr>\n",
       "    <tr>\n",
       "      <th>Retired</th>\n",
       "      <td>4458.113369</td>\n",
       "      <td>4904.894731</td>\n",
       "      <td>4518.782768</td>\n",
       "      <td>4772.943848</td>\n",
       "      <td>16301.967600</td>\n",
       "    </tr>\n",
       "    <tr>\n",
       "      <th>Unemployed</th>\n",
       "      <td>5228.103218</td>\n",
       "      <td>5975.804813</td>\n",
       "      <td>5392.499539</td>\n",
       "      <td>6063.392804</td>\n",
       "      <td>8184.618904</td>\n",
       "    </tr>\n",
       "  </tbody>\n",
       "</table>\n",
       "</div>"
      ],
      "text/plain": [
       "Education            Bachelor      College       Doctor  High School or Below  \\\n",
       "EmploymentStatus                                                                \n",
       "Disabled          4879.433721  5594.322987  4218.099041  6957.448957            \n",
       "Employed          5898.733666  5788.118159  5509.105600  6230.902189            \n",
       "Medical Leave     4770.739040  5398.046242  9125.863218  5274.200760            \n",
       "Retired           4458.113369  4904.894731  4518.782768  4772.943848            \n",
       "Unemployed        5228.103218  5975.804813  5392.499539  6063.392804            \n",
       "\n",
       "Education               Master  \n",
       "EmploymentStatus                \n",
       "Disabled          5884.327125   \n",
       "Employed          5711.478251   \n",
       "Medical Leave     5507.242176   \n",
       "Retired           16301.967600  \n",
       "Unemployed        8184.618904   "
      ]
     },
     "metadata": {},
     "output_type": "display_data"
    },
    {
     "data": {
      "image/png": "[encoded data removed]",
      "text/plain": [
       "<Figure size 864x504 with 1 Axes>"
      ]
     },
     "metadata": {
      "needs_background": "light"
     },
     "output_type": "display_data"
    }
   ],
   "source": [
    "# customer based on status employment & education\n",
    "from IPython.display import display\n",
    "\n",
    "neighbour_pivot = df.pivot_table(index='EmploymentStatus', columns='Education', values='Customer Lifetime Value', aggfunc='median')\n",
    "display(neighbour_pivot)\n",
    "\n",
    "pivot_plot = neighbour_pivot.plot.bar(stacked=True, figsize=(12, 7))\n",
    "pivot_plot.set_xlabel('EmploymentStatus')\n",
    "pivot_plot.set_ylabel('Education')\n",
    "pivot_plot.set_title('Median CLV of Employment Status');"
   ]
  },
  {
   "cell_type": "markdown",
   "metadata": {},
   "source": [
    "Status pekerjaan v edukasi\n",
    "Customer dengan status pekerjaan Retired (pensiun) memiliki CLV median tertinggi untuk setiap tipe employement status. \n",
    "Dan seperti yang kita sudah diketahui, rata-rata CLV tertinggi ada pada customer dengan status employed (memiliki pekerjaan)\n"
   ]
  },
  {
   "cell_type": "code",
   "execution_count": 439,
   "metadata": {},
   "outputs": [
    {
     "data": {
      "image/png": "[encoded data removed]",
      "text/plain": [
       "<Figure size 504x504 with 1 Axes>"
      ]
     },
     "metadata": {
      "needs_background": "light"
     },
     "output_type": "display_data"
    }
   ],
   "source": [
    "# Plot distribusi fitur 'Income'\n",
    "plt.figure(figsize=(7, 7))\n",
    "sns.distplot(df['Income'])\n",
    "plt.title('Customer Income Distribution', size=15, weight='bold');"
   ]
  },
  {
   "cell_type": "code",
   "execution_count": 440,
   "metadata": {},
   "outputs": [
    {
     "data": {
      "text/html": [
       "<div>\n",
       "<style scoped>\n",
       "    .dataframe tbody tr th:only-of-type {\n",
       "        vertical-align: middle;\n",
       "    }\n",
       "\n",
       "    .dataframe tbody tr th {\n",
       "        vertical-align: top;\n",
       "    }\n",
       "\n",
       "    .dataframe thead th {\n",
       "        text-align: right;\n",
       "    }\n",
       "</style>\n",
       "<table border=\"1\" class=\"dataframe\">\n",
       "  <thead>\n",
       "    <tr style=\"text-align: right;\">\n",
       "      <th></th>\n",
       "      <th>Income</th>\n",
       "    </tr>\n",
       "    <tr>\n",
       "      <th>EmploymentStatus</th>\n",
       "      <th></th>\n",
       "    </tr>\n",
       "  </thead>\n",
       "  <tbody>\n",
       "    <tr>\n",
       "      <th>Employed</th>\n",
       "      <td>56665.612539</td>\n",
       "    </tr>\n",
       "    <tr>\n",
       "      <th>Retired</th>\n",
       "      <td>20242.172222</td>\n",
       "    </tr>\n",
       "    <tr>\n",
       "      <th>Medical Leave</th>\n",
       "      <td>20087.408240</td>\n",
       "    </tr>\n",
       "    <tr>\n",
       "      <th>Disabled</th>\n",
       "      <td>19900.388889</td>\n",
       "    </tr>\n",
       "    <tr>\n",
       "      <th>Unemployed</th>\n",
       "      <td>0.000000</td>\n",
       "    </tr>\n",
       "  </tbody>\n",
       "</table>\n",
       "</div>"
      ],
      "text/plain": [
       "                        Income\n",
       "EmploymentStatus              \n",
       "Employed          56665.612539\n",
       "Retired           20242.172222\n",
       "Medical Leave     20087.408240\n",
       "Disabled          19900.388889\n",
       "Unemployed        0.000000    "
      ]
     },
     "execution_count": 440,
     "metadata": {},
     "output_type": "execute_result"
    }
   ],
   "source": [
    "df.groupby('EmploymentStatus').mean()[['Income']].sort_values('Income',ascending=False)"
   ]
  },
  {
   "cell_type": "markdown",
   "metadata": {},
   "source": [
    "Konklusi income\n",
    "Dari data, banyak yang memiliki income 0, ternyata karena customer yang unemployed memang tidak memiliki penghasilan.\n",
    "<br>\n",
    "Rata-rata income paling besar berasal dari kategori employed (memiliki pekerjaan)"
   ]
  },
  {
   "cell_type": "code",
   "execution_count": 441,
   "metadata": {},
   "outputs": [
    {
     "data": {
      "image/png": "[encoded data removed]",
      "text/plain": [
       "<Figure size 720x432 with 1 Axes>"
      ]
     },
     "metadata": {
      "needs_background": "light"
     },
     "output_type": "display_data"
    }
   ],
   "source": [
    "# Plot persebaran 'Income V CLV'\n",
    "plt.figure(figsize=(10,6))\n",
    "sns.scatterplot(df['Income'], df['Customer Lifetime Value']).set_title('Customer Lifetime Value X Income');"
   ]
  },
  {
   "cell_type": "markdown",
   "metadata": {},
   "source": [
    "Income V CLV\n",
    "dari plot persebaran ini, terlihat tidak ada pola antara income dengan customer lifetime value, jika ada pun tidak langsung terlihat menggunakan mata"
   ]
  },
  {
   "cell_type": "markdown",
   "metadata": {},
   "source": [
    "##### **2_2_3_Types of Car related to CLV**"
   ]
  },
  {
   "cell_type": "code",
   "execution_count": 442,
   "metadata": {},
   "outputs": [
    {
     "name": "stdout",
     "output_type": "stream",
     "text": [
      "Jumlah Customer di tiap Vehicle Class group:\n",
      "Four-Door Car    2858\n",
      "Two-Door Car     1186\n",
      "SUV              1096\n",
      "Sports Car       307 \n",
      "Luxury SUV       115 \n",
      "Luxury Car       107 \n",
      "Name: Vehicle Class, dtype: int64\n"
     ]
    }
   ],
   "source": [
    "# Cek jumlah Customer berdasarkan Tipe Vehicle\n",
    "print(f\"Jumlah Customer di tiap Vehicle Class group:\\n{df['Vehicle Class'].value_counts()}\")"
   ]
  },
  {
   "cell_type": "code",
   "execution_count": 443,
   "metadata": {},
   "outputs": [
    {
     "data": {
      "text/html": [
       "<div>\n",
       "<style scoped>\n",
       "    .dataframe tbody tr th:only-of-type {\n",
       "        vertical-align: middle;\n",
       "    }\n",
       "\n",
       "    .dataframe tbody tr th {\n",
       "        vertical-align: top;\n",
       "    }\n",
       "\n",
       "    .dataframe thead th {\n",
       "        text-align: right;\n",
       "    }\n",
       "</style>\n",
       "<table border=\"1\" class=\"dataframe\">\n",
       "  <thead>\n",
       "    <tr style=\"text-align: right;\">\n",
       "      <th></th>\n",
       "      <th>Vehicle Class</th>\n",
       "      <th>Customer Lifetime Value</th>\n",
       "    </tr>\n",
       "  </thead>\n",
       "  <tbody>\n",
       "    <tr>\n",
       "      <th>0</th>\n",
       "      <td>Luxury SUV</td>\n",
       "      <td>17730.511533</td>\n",
       "    </tr>\n",
       "    <tr>\n",
       "      <th>1</th>\n",
       "      <td>Luxury Car</td>\n",
       "      <td>16779.425415</td>\n",
       "    </tr>\n",
       "    <tr>\n",
       "      <th>2</th>\n",
       "      <td>Sports Car</td>\n",
       "      <td>11121.754994</td>\n",
       "    </tr>\n",
       "    <tr>\n",
       "      <th>3</th>\n",
       "      <td>SUV</td>\n",
       "      <td>10369.130854</td>\n",
       "    </tr>\n",
       "    <tr>\n",
       "      <th>4</th>\n",
       "      <td>Two-Door Car</td>\n",
       "      <td>6684.448077</td>\n",
       "    </tr>\n",
       "    <tr>\n",
       "      <th>5</th>\n",
       "      <td>Four-Door Car</td>\n",
       "      <td>6641.095206</td>\n",
       "    </tr>\n",
       "  </tbody>\n",
       "</table>\n",
       "</div>"
      ],
      "text/plain": [
       "   Vehicle Class  Customer Lifetime Value\n",
       "0  Luxury SUV     17730.511533           \n",
       "1  Luxury Car     16779.425415           \n",
       "2  Sports Car     11121.754994           \n",
       "3  SUV            10369.130854           \n",
       "4  Two-Door Car   6684.448077            \n",
       "5  Four-Door Car  6641.095206            "
      ]
     },
     "execution_count": 443,
     "metadata": {},
     "output_type": "execute_result"
    }
   ],
   "source": [
    "# mean CLV per Vehicle Class\n",
    "df.groupby('Vehicle Class').mean()[['Customer Lifetime Value']].sort_values('Customer Lifetime Value',ascending=False).reset_index()"
   ]
  },
  {
   "cell_type": "code",
   "execution_count": 444,
   "metadata": {},
   "outputs": [
    {
     "data": {
      "text/html": [
       "<div>\n",
       "<style scoped>\n",
       "    .dataframe tbody tr th:only-of-type {\n",
       "        vertical-align: middle;\n",
       "    }\n",
       "\n",
       "    .dataframe tbody tr th {\n",
       "        vertical-align: top;\n",
       "    }\n",
       "\n",
       "    .dataframe thead th {\n",
       "        text-align: right;\n",
       "    }\n",
       "</style>\n",
       "<table border=\"1\" class=\"dataframe\">\n",
       "  <thead>\n",
       "    <tr style=\"text-align: right;\">\n",
       "      <th></th>\n",
       "      <th>Vehicle Class</th>\n",
       "      <th>Customer Lifetime Value</th>\n",
       "    </tr>\n",
       "  </thead>\n",
       "  <tbody>\n",
       "    <tr>\n",
       "      <th>0</th>\n",
       "      <td>Luxury SUV</td>\n",
       "      <td>14854.195520</td>\n",
       "    </tr>\n",
       "    <tr>\n",
       "      <th>1</th>\n",
       "      <td>Luxury Car</td>\n",
       "      <td>14510.750500</td>\n",
       "    </tr>\n",
       "    <tr>\n",
       "      <th>2</th>\n",
       "      <td>SUV</td>\n",
       "      <td>8628.816326</td>\n",
       "    </tr>\n",
       "    <tr>\n",
       "      <th>3</th>\n",
       "      <td>Sports Car</td>\n",
       "      <td>8608.157233</td>\n",
       "    </tr>\n",
       "    <tr>\n",
       "      <th>4</th>\n",
       "      <td>Four-Door Car</td>\n",
       "      <td>5319.488900</td>\n",
       "    </tr>\n",
       "    <tr>\n",
       "      <th>5</th>\n",
       "      <td>Two-Door Car</td>\n",
       "      <td>5211.711468</td>\n",
       "    </tr>\n",
       "  </tbody>\n",
       "</table>\n",
       "</div>"
      ],
      "text/plain": [
       "   Vehicle Class  Customer Lifetime Value\n",
       "0  Luxury SUV     14854.195520           \n",
       "1  Luxury Car     14510.750500           \n",
       "2  SUV            8628.816326            \n",
       "3  Sports Car     8608.157233            \n",
       "4  Four-Door Car  5319.488900            \n",
       "5  Two-Door Car   5211.711468            "
      ]
     },
     "execution_count": 444,
     "metadata": {},
     "output_type": "execute_result"
    }
   ],
   "source": [
    "# median CLV per Vehicle Class\n",
    "df.groupby('Vehicle Class').median()[['Customer Lifetime Value']].sort_values('Customer Lifetime Value',ascending=False).reset_index()"
   ]
  },
  {
   "cell_type": "code",
   "execution_count": 445,
   "metadata": {},
   "outputs": [
    {
     "data": {
      "image/png": "[encoded data removed]",
      "text/plain": [
       "<Figure size 504x504 with 1 Axes>"
      ]
     },
     "metadata": {
      "needs_background": "light"
     },
     "output_type": "display_data"
    }
   ],
   "source": [
    "# Plot distribusi fitur 'Vehicle Class'\n",
    "plt.figure(figsize=(7, 7))\n",
    "sns.histplot(df['Vehicle Class'])\n",
    "plt.title('Vehicle Class Distribution', size=15, weight='bold');"
   ]
  },
  {
   "cell_type": "markdown",
   "metadata": {},
   "source": [
    "Konklusi tipe mobil\n",
    "- Tipe mobil paling banyak adalah mobil berpintu 4, diikuti dengan mobil berpintu 2 & SUV\n",
    "- Tipe mobil yang memiliki rata rata CLV & median CLV tertinggi adalah Luxury SUV"
   ]
  },
  {
   "cell_type": "markdown",
   "metadata": {},
   "source": [
    "### **3_Data Preprocessing**"
   ]
  },
  {
   "cell_type": "markdown",
   "metadata": {},
   "source": [
    "Pada tahap ini, kita akan melakukan cleaning pada data yang nantinya data yang sudah dibersihkan akan kita gunakan untuk proses analisis selanjutnya. Beberapa hal yang perlu dilakukan adalah:\n",
    "- Drop fitur yang tidak memiliki relevansi terhadap permasalahan yang sedang dihadapi.\n",
    "- Melakukan treatment terhadap missing value jika ada. Bisa dengan cara men-drop fiturnya jika memang tidak dibutuhkan atau bisa juga dengan mengimputasi dengan nilai yang paling masuk akal berdasarkan kasusnya."
   ]
  },
  {
   "cell_type": "code",
   "execution_count": 446,
   "metadata": {},
   "outputs": [],
   "source": [
    "# Membuat duplikasi dataframe\n",
    "df_model = df.copy()"
   ]
  },
  {
   "cell_type": "markdown",
   "metadata": {},
   "source": [
    "#### 3_1_Missing Value & Duplicate Treatment"
   ]
  },
  {
   "cell_type": "code",
   "execution_count": 447,
   "metadata": {},
   "outputs": [
    {
     "data": {
      "text/html": [
       "<div>\n",
       "<style scoped>\n",
       "    .dataframe tbody tr th:only-of-type {\n",
       "        vertical-align: middle;\n",
       "    }\n",
       "\n",
       "    .dataframe tbody tr th {\n",
       "        vertical-align: top;\n",
       "    }\n",
       "\n",
       "    .dataframe thead th {\n",
       "        text-align: right;\n",
       "    }\n",
       "</style>\n",
       "<table border=\"1\" class=\"dataframe\">\n",
       "  <thead>\n",
       "    <tr style=\"text-align: right;\">\n",
       "      <th></th>\n",
       "      <th>dataFeatures</th>\n",
       "      <th>dataType</th>\n",
       "      <th>null</th>\n",
       "      <th>nullPct</th>\n",
       "      <th>unique</th>\n",
       "      <th>uniqueSample</th>\n",
       "    </tr>\n",
       "  </thead>\n",
       "  <tbody>\n",
       "    <tr>\n",
       "      <th>0</th>\n",
       "      <td>Vehicle Class</td>\n",
       "      <td>object</td>\n",
       "      <td>0</td>\n",
       "      <td>0.0</td>\n",
       "      <td>6</td>\n",
       "      <td>[Sports Car, Two-Door Car]</td>\n",
       "    </tr>\n",
       "    <tr>\n",
       "      <th>1</th>\n",
       "      <td>Coverage</td>\n",
       "      <td>object</td>\n",
       "      <td>0</td>\n",
       "      <td>0.0</td>\n",
       "      <td>3</td>\n",
       "      <td>[Extended, Premium]</td>\n",
       "    </tr>\n",
       "    <tr>\n",
       "      <th>2</th>\n",
       "      <td>Renew Offer Type</td>\n",
       "      <td>object</td>\n",
       "      <td>0</td>\n",
       "      <td>0.0</td>\n",
       "      <td>4</td>\n",
       "      <td>[Offer3, Offer2]</td>\n",
       "    </tr>\n",
       "    <tr>\n",
       "      <th>3</th>\n",
       "      <td>EmploymentStatus</td>\n",
       "      <td>object</td>\n",
       "      <td>0</td>\n",
       "      <td>0.0</td>\n",
       "      <td>5</td>\n",
       "      <td>[Medical Leave, Employed]</td>\n",
       "    </tr>\n",
       "    <tr>\n",
       "      <th>4</th>\n",
       "      <td>Marital Status</td>\n",
       "      <td>object</td>\n",
       "      <td>0</td>\n",
       "      <td>0.0</td>\n",
       "      <td>3</td>\n",
       "      <td>[Married, Single]</td>\n",
       "    </tr>\n",
       "    <tr>\n",
       "      <th>5</th>\n",
       "      <td>Education</td>\n",
       "      <td>object</td>\n",
       "      <td>0</td>\n",
       "      <td>0.0</td>\n",
       "      <td>5</td>\n",
       "      <td>[Master, Doctor]</td>\n",
       "    </tr>\n",
       "    <tr>\n",
       "      <th>6</th>\n",
       "      <td>Number of Policies</td>\n",
       "      <td>float64</td>\n",
       "      <td>0</td>\n",
       "      <td>0.0</td>\n",
       "      <td>9</td>\n",
       "      <td>[1.0, 2.0]</td>\n",
       "    </tr>\n",
       "    <tr>\n",
       "      <th>7</th>\n",
       "      <td>Monthly Premium Auto</td>\n",
       "      <td>float64</td>\n",
       "      <td>0</td>\n",
       "      <td>0.0</td>\n",
       "      <td>191</td>\n",
       "      <td>[68.0, 219.0]</td>\n",
       "    </tr>\n",
       "    <tr>\n",
       "      <th>8</th>\n",
       "      <td>Total Claim Amount</td>\n",
       "      <td>float64</td>\n",
       "      <td>0</td>\n",
       "      <td>0.0</td>\n",
       "      <td>3274</td>\n",
       "      <td>[165.75305, 45.152521]</td>\n",
       "    </tr>\n",
       "    <tr>\n",
       "      <th>9</th>\n",
       "      <td>Income</td>\n",
       "      <td>float64</td>\n",
       "      <td>0</td>\n",
       "      <td>0.0</td>\n",
       "      <td>3625</td>\n",
       "      <td>[22853.0, 20346.0]</td>\n",
       "    </tr>\n",
       "    <tr>\n",
       "      <th>10</th>\n",
       "      <td>Customer Lifetime Value</td>\n",
       "      <td>float64</td>\n",
       "      <td>0</td>\n",
       "      <td>0.0</td>\n",
       "      <td>5049</td>\n",
       "      <td>[3993.882994, 5447.809042]</td>\n",
       "    </tr>\n",
       "  </tbody>\n",
       "</table>\n",
       "</div>"
      ],
      "text/plain": [
       "               dataFeatures dataType  null  nullPct  unique  \\\n",
       "0   Vehicle Class            object   0     0.0      6        \n",
       "1   Coverage                 object   0     0.0      3        \n",
       "2   Renew Offer Type         object   0     0.0      4        \n",
       "3   EmploymentStatus         object   0     0.0      5        \n",
       "4   Marital Status           object   0     0.0      3        \n",
       "5   Education                object   0     0.0      5        \n",
       "6   Number of Policies       float64  0     0.0      9        \n",
       "7   Monthly Premium Auto     float64  0     0.0      191      \n",
       "8   Total Claim Amount       float64  0     0.0      3274     \n",
       "9   Income                   float64  0     0.0      3625     \n",
       "10  Customer Lifetime Value  float64  0     0.0      5049     \n",
       "\n",
       "                  uniqueSample  \n",
       "0   [Sports Car, Two-Door Car]  \n",
       "1   [Extended, Premium]         \n",
       "2   [Offer3, Offer2]            \n",
       "3   [Medical Leave, Employed]   \n",
       "4   [Married, Single]           \n",
       "5   [Master, Doctor]            \n",
       "6   [1.0, 2.0]                  \n",
       "7   [68.0, 219.0]               \n",
       "8   [165.75305, 45.152521]      \n",
       "9   [22853.0, 20346.0]          \n",
       "10  [3993.882994, 5447.809042]  "
      ]
     },
     "execution_count": 447,
     "metadata": {},
     "output_type": "execute_result"
    }
   ],
   "source": [
    "# Cek info lebih detail untuk setiap fitur\n",
    "listItem = []\n",
    "\n",
    "for col in df_model.columns:\n",
    "    listItem.append([col, df_model[col].dtype, df_model[col].isna().sum(), round((df_model[col].isna().sum()/len(df_model[col]))*100, 2),\n",
    "                    df_model[col].nunique(), list(df_model[col].drop_duplicates().sample(2).values)]);\n",
    "\n",
    "df_model_desc = pd.DataFrame(columns=['dataFeatures', 'dataType', 'null', 'nullPct', 'unique', 'uniqueSample'],\n",
    "                     data=listItem)\n",
    "df_model_desc"
   ]
  },
  {
   "cell_type": "code",
   "execution_count": 448,
   "metadata": {},
   "outputs": [
    {
     "data": {
      "image/png": "[encoded data removed]",
      "text/plain": [
       "<Figure size 432x288 with 1 Axes>"
      ]
     },
     "metadata": {
      "needs_background": "light"
     },
     "output_type": "display_data"
    }
   ],
   "source": [
    "# Missing value heatmap\n",
    "sns.heatmap(df_model.isnull(), cbar=False);"
   ]
  },
  {
   "cell_type": "markdown",
   "metadata": {},
   "source": [
    "Konklusi :\n",
    "- Dari info dataset diatas, dapat disimpulkan bahwa tidak terdapat data kosong pada data ini. maka tidak perlu melakukan treatment pada missing value.\n",
    "- Dari dataset juga tidak ada data primary key (contoh:id), maka tidak perlu melakukan treatment pada duplicate value"
   ]
  },
  {
   "cell_type": "markdown",
   "metadata": {},
   "source": [
    "#### 3_2_Statistik Deskriptif\n",
    "Selanjutya kita juga perlu mengecek apakah terdapat nilai-nilai yang dirasa tidak masuk akal pada setiap fiturnya, misalnya kurang dari 0. pengecekkan ini dilakukan melalui deskriptive statistik."
   ]
  },
  {
   "cell_type": "code",
   "execution_count": 449,
   "metadata": {},
   "outputs": [
    {
     "data": {
      "text/html": [
       "<div>\n",
       "<style scoped>\n",
       "    .dataframe tbody tr th:only-of-type {\n",
       "        vertical-align: middle;\n",
       "    }\n",
       "\n",
       "    .dataframe tbody tr th {\n",
       "        vertical-align: top;\n",
       "    }\n",
       "\n",
       "    .dataframe thead th {\n",
       "        text-align: right;\n",
       "    }\n",
       "</style>\n",
       "<table border=\"1\" class=\"dataframe\">\n",
       "  <thead>\n",
       "    <tr style=\"text-align: right;\">\n",
       "      <th></th>\n",
       "      <th>Number of Policies</th>\n",
       "      <th>Monthly Premium Auto</th>\n",
       "      <th>Total Claim Amount</th>\n",
       "      <th>Income</th>\n",
       "      <th>Customer Lifetime Value</th>\n",
       "    </tr>\n",
       "  </thead>\n",
       "  <tbody>\n",
       "    <tr>\n",
       "      <th>count</th>\n",
       "      <td>5669.000000</td>\n",
       "      <td>5669.000000</td>\n",
       "      <td>5669.000000</td>\n",
       "      <td>5669.000000</td>\n",
       "      <td>5669.000000</td>\n",
       "    </tr>\n",
       "    <tr>\n",
       "      <th>mean</th>\n",
       "      <td>2.979361</td>\n",
       "      <td>93.026989</td>\n",
       "      <td>431.407103</td>\n",
       "      <td>37868.188569</td>\n",
       "      <td>8029.874592</td>\n",
       "    </tr>\n",
       "    <tr>\n",
       "      <th>std</th>\n",
       "      <td>2.393187</td>\n",
       "      <td>34.551795</td>\n",
       "      <td>287.558038</td>\n",
       "      <td>30490.490723</td>\n",
       "      <td>6916.708246</td>\n",
       "    </tr>\n",
       "    <tr>\n",
       "      <th>min</th>\n",
       "      <td>1.000000</td>\n",
       "      <td>61.000000</td>\n",
       "      <td>0.423310</td>\n",
       "      <td>0.000000</td>\n",
       "      <td>1898.007675</td>\n",
       "    </tr>\n",
       "    <tr>\n",
       "      <th>25%</th>\n",
       "      <td>1.000000</td>\n",
       "      <td>68.000000</td>\n",
       "      <td>266.932542</td>\n",
       "      <td>0.000000</td>\n",
       "      <td>3954.344534</td>\n",
       "    </tr>\n",
       "    <tr>\n",
       "      <th>50%</th>\n",
       "      <td>2.000000</td>\n",
       "      <td>82.000000</td>\n",
       "      <td>379.200000</td>\n",
       "      <td>34322.000000</td>\n",
       "      <td>5800.188903</td>\n",
       "    </tr>\n",
       "    <tr>\n",
       "      <th>75%</th>\n",
       "      <td>4.000000</td>\n",
       "      <td>109.000000</td>\n",
       "      <td>549.986128</td>\n",
       "      <td>62464.000000</td>\n",
       "      <td>9031.214859</td>\n",
       "    </tr>\n",
       "    <tr>\n",
       "      <th>max</th>\n",
       "      <td>9.000000</td>\n",
       "      <td>297.000000</td>\n",
       "      <td>2759.794354</td>\n",
       "      <td>99934.000000</td>\n",
       "      <td>83325.381190</td>\n",
       "    </tr>\n",
       "  </tbody>\n",
       "</table>\n",
       "</div>"
      ],
      "text/plain": [
       "       Number of Policies  Monthly Premium Auto  Total Claim Amount  \\\n",
       "count  5669.000000         5669.000000           5669.000000          \n",
       "mean   2.979361            93.026989             431.407103           \n",
       "std    2.393187            34.551795             287.558038           \n",
       "min    1.000000            61.000000             0.423310             \n",
       "25%    1.000000            68.000000             266.932542           \n",
       "50%    2.000000            82.000000             379.200000           \n",
       "75%    4.000000            109.000000            549.986128           \n",
       "max    9.000000            297.000000            2759.794354          \n",
       "\n",
       "             Income  Customer Lifetime Value  \n",
       "count  5669.000000   5669.000000              \n",
       "mean   37868.188569  8029.874592              \n",
       "std    30490.490723  6916.708246              \n",
       "min    0.000000      1898.007675              \n",
       "25%    0.000000      3954.344534              \n",
       "50%    34322.000000  5800.188903              \n",
       "75%    62464.000000  9031.214859              \n",
       "max    99934.000000  83325.381190             "
      ]
     },
     "execution_count": 449,
     "metadata": {},
     "output_type": "execute_result"
    }
   ],
   "source": [
    "# Cek deskriptif statistik fitur numerikal\n",
    "num_features = [feature for feature in df_model.columns if ((df_model[feature].dtypes != 'object'))]\n",
    "df_model[num_features].describe()"
   ]
  },
  {
   "cell_type": "markdown",
   "metadata": {},
   "source": [
    "Konklusi:\n",
    "- Tidak ada fitur yang memiliki nilai negative. akan tetapi ada 1 fitur yang memiliki nilai minimum sama dengan 0, yaitu 'income'\n",
    "- Adanya nilai 0 di kolom income masuk akal, karena ada customer yang memiliki status pekerjaan Unemployed / Tidak bekerja."
   ]
  },
  {
   "cell_type": "markdown",
   "metadata": {},
   "source": [
    "#### 3_3_Data Correlation\n",
    "Selanjutnya kita juga perlu mengecek korelasi antara data / fitur yang ada."
   ]
  },
  {
   "cell_type": "code",
   "execution_count": 450,
   "metadata": {},
   "outputs": [
    {
     "data": {
      "image/png": "[encoded data removed]",
      "text/plain": [
       "<Figure size 1080x864 with 2 Axes>"
      ]
     },
     "metadata": {
      "needs_background": "light"
     },
     "output_type": "display_data"
    }
   ],
   "source": [
    "# Correlation matrix\n",
    "plt.figure(figsize=(15, 12))\n",
    "palette=sns.diverging_palette(20, 220, n=256)\n",
    "corr = df_model.corr(method='pearson')\n",
    "sns.heatmap(corr, annot=True, fmt='.2f', cmap=palette, square=True, linewidths=.5)\n",
    "plt.title('Correlation Matrix', size=15, weight='bold');"
   ]
  },
  {
   "cell_type": "markdown",
   "metadata": {},
   "source": [
    "Konklusi:\n",
    "- Correlation matrix menunjukan bahwa tidak ada fitur yang memiliki korelasi kuat terhadap fitur 'Customer Lifetime Value', kecuali fitur 'Monthly Premium Auto' yang memiliki nilai korelasi moderat (Positif 0.4).\n",
    "- ada juga 2 fitur yang memiliki korelasi moderat, yaitu 'Monthly Premium Auto' dengan 'Total Claim Amount', yaitu di (positif 0.64). yang berarti semakin tinggi 'Monthly Premium Auto' maka 'Total Claim Amount' akan semakin tinggi juga.\n",
    "- Maka berdasarkan korelasi, tidak perlu terjadi penghapusan fitur."
   ]
  },
  {
   "cell_type": "markdown",
   "metadata": {},
   "source": [
    "#### 3_4_Data Outliers\n",
    "Selanjutnya, kita juga harus melihat apakah ada outliers di data kita.\n",
    "hal inin dilakukan karena banyak outliers akan mempengaruhi hasil analisis dan pemodelan. "
   ]
  },
  {
   "cell_type": "code",
   "execution_count": 451,
   "metadata": {},
   "outputs": [
    {
     "data": {
      "image/png": "[encoded data removed]",
      "text/plain": [
       "<Figure size 432x288 with 1 Axes>"
      ]
     },
     "metadata": {
      "needs_background": "light"
     },
     "output_type": "display_data"
    }
   ],
   "source": [
    "# Plot boxplot untuk mengecek outliers\n",
    "df_model.boxplot(rot=90);"
   ]
  },
  {
   "cell_type": "code",
   "execution_count": 452,
   "metadata": {},
   "outputs": [
    {
     "data": {
      "image/png": "[encoded data removed]",
      "text/plain": [
       "<Figure size 432x288 with 1 Axes>"
      ]
     },
     "metadata": {
      "needs_background": "light"
     },
     "output_type": "display_data"
    }
   ],
   "source": [
    "# Plot boxplot untuk mengecek outliers, lebih detail untuk 'Number of Policies','Monthly Premium Auto', dan 'Total Claim Amount'\n",
    "df_model[['Number of Policies','Monthly Premium Auto','Total Claim Amount']].boxplot(rot=90);"
   ]
  },
  {
   "cell_type": "markdown",
   "metadata": {},
   "source": [
    "Di fitur fitur numerikal data ini, terlihat ada banyak outlier. Dalam project ini, agar data yang digunakan bersih dari outliers, saya akan melakukan rekayasa pada fitur fitur ini dengan mempertimbangkan kombinasi antara hasil dari metode IQR & domain knowledge. Hasil dari model ini akan memiliki batasan yaitu kemampuan untuk memprediksi customer dengan nilai-nilai pada rentang-rentang berdasarkan data bersih ini saja. di luar rentang data ini, hasil prediksi dari model akan menjadi bias"
   ]
  },
  {
   "cell_type": "code",
   "execution_count": 453,
   "metadata": {},
   "outputs": [],
   "source": [
    "# Membuat fungsi untuk mengecek outliers\n",
    "def find_anomalies(data):\n",
    "    q1 = data.quantile(0.25)\n",
    "    q3 = data.quantile(0.75)\n",
    "    iqr = q3 - q1\n",
    "    limit = iqr*1.5\n",
    "    print(f'IQR: {iqr}')\n",
    "\n",
    "    limit_bawah = q1 - limit\n",
    "    limit_atas = q3 + limit\n",
    "    print(f'limit_bawah: {limit_bawah}')\n",
    "    print(f'limit_atas: {limit_atas}')     "
   ]
  },
  {
   "cell_type": "code",
   "execution_count": 454,
   "metadata": {},
   "outputs": [
    {
     "name": "stdout",
     "output_type": "stream",
     "text": [
      "IQR: 5076.870325\n",
      "limit_bawah: -3660.9609535\n",
      "limit_atas: 16646.5203465\n"
     ]
    }
   ],
   "source": [
    "# Outliers pada fitur Customer Lifetime Value\n",
    "find_anomalies(df_model['Customer Lifetime Value'])"
   ]
  },
  {
   "cell_type": "code",
   "execution_count": 455,
   "metadata": {},
   "outputs": [
    {
     "name": "stdout",
     "output_type": "stream",
     "text": [
      "IQR: 3.0\n",
      "limit_bawah: -3.5\n",
      "limit_atas: 8.5\n"
     ]
    }
   ],
   "source": [
    "# Outliers pada fitur Number of Policies\n",
    "find_anomalies(df_model['Number of Policies'])"
   ]
  },
  {
   "cell_type": "code",
   "execution_count": 456,
   "metadata": {},
   "outputs": [
    {
     "name": "stdout",
     "output_type": "stream",
     "text": [
      "IQR: 41.0\n",
      "limit_bawah: 6.5\n",
      "limit_atas: 170.5\n"
     ]
    }
   ],
   "source": [
    "# Outliers pada fitur Monthly Premium Auto\n",
    "find_anomalies(df_model['Monthly Premium Auto'])"
   ]
  },
  {
   "cell_type": "code",
   "execution_count": 457,
   "metadata": {},
   "outputs": [
    {
     "name": "stdout",
     "output_type": "stream",
     "text": [
      "IQR: 283.053586\n",
      "limit_bawah: -157.64783699999998\n",
      "limit_atas: 974.566507\n"
     ]
    }
   ],
   "source": [
    "# Outliers pada fitur Total Claim Amount\n",
    "find_anomalies(df_model['Total Claim Amount'])"
   ]
  },
  {
   "cell_type": "markdown",
   "metadata": {},
   "source": [
    "#### 3_5_Numerikal Feature Engineering\n",
    "Selanjutnya kita dapat memulai feature enginenering terhadap fitur-fitur numerikal."
   ]
  },
  {
   "cell_type": "markdown",
   "metadata": {},
   "source": [
    "**Customer Lifetime Value**"
   ]
  },
  {
   "cell_type": "code",
   "execution_count": 458,
   "metadata": {},
   "outputs": [
    {
     "data": {
      "text/plain": [
       "count    5669.000000 \n",
       "mean     8029.874592 \n",
       "std      6916.708246 \n",
       "min      1898.007675 \n",
       "25%      3954.344534 \n",
       "50%      5800.188903 \n",
       "75%      9031.214859 \n",
       "max      83325.381190\n",
       "Name: Customer Lifetime Value, dtype: float64"
      ]
     },
     "execution_count": 458,
     "metadata": {},
     "output_type": "execute_result"
    }
   ],
   "source": [
    "df_model['Customer Lifetime Value'].describe()"
   ]
  },
  {
   "cell_type": "code",
   "execution_count": 459,
   "metadata": {},
   "outputs": [
    {
     "data": {
      "text/plain": [
       "499"
      ]
     },
     "execution_count": 459,
     "metadata": {},
     "output_type": "execute_result"
    }
   ],
   "source": [
    "# Cek Customer Lifetime Value > $16646.5203465\n",
    "df_model[df_model['Customer Lifetime Value'] > 16646.5203465].count()['Customer Lifetime Value']"
   ]
  },
  {
   "cell_type": "code",
   "execution_count": 460,
   "metadata": {},
   "outputs": [
    {
     "data": {
      "text/plain": [
       "0.08802257893808432"
      ]
     },
     "execution_count": 460,
     "metadata": {},
     "output_type": "execute_result"
    }
   ],
   "source": [
    "# Percentage diluar IQR\n",
    "df_model[df_model['Customer Lifetime Value'] > 16646.5203465].count()['Customer Lifetime Value']/df_model['Customer Lifetime Value'].count()"
   ]
  },
  {
   "cell_type": "markdown",
   "metadata": {},
   "source": [
    "**Konklusi CLV**\n",
    "<br><br>\n",
    "Terlihat bahwa ada 75% data pada kolom Customer Lifetime Value bernilai kurang dari 9031, sementara nilai maksimalnya 83.325. berarti ada skewness pada distribusinya, yaitu tail yang memanjang di sebelah kanan (Positive skewness). Terdapat 499 data yang nilai CLV nya lebih besar dari 16.646 (batas atas berdasarkan metode IQR). Oleh karena itu, data yang memiliki CLV lebih besar dari 16.646 tidak akan dimasukkan ke dalam pemodelan, sehingga skewness-nya pun akan berkurang. Hal ini tentu akan menjadi limitasi untuk model yang nantinya dibangun. "
   ]
  },
  {
   "cell_type": "code",
   "execution_count": 461,
   "metadata": {},
   "outputs": [
    {
     "data": {
      "image/png": "[encoded data removed]",
      "text/plain": [
       "<Figure size 1512x432 with 2 Axes>"
      ]
     },
     "metadata": {
      "needs_background": "light"
     },
     "output_type": "display_data"
    }
   ],
   "source": [
    "# Melakukan filtering pada data\n",
    "df_model = df_model[(df_model['Customer Lifetime Value'] <= 16646.5203465)]\n",
    "\n",
    "# Plot distribusi data sebelum dan sesudah filtering\n",
    "fig, axes = plt.subplots(1,2, figsize=(21, 6))\n",
    "sns.distplot(df['Customer Lifetime Value'], ax=axes[0])\n",
    "sns.distplot(df_model['Customer Lifetime Value'], ax=axes[1])\n",
    "axes[0].set_xlabel('Customer Lifetime Value')\n",
    "axes[1].set_xlabel('Range Selected Customer Lifetime Value');"
   ]
  },
  {
   "cell_type": "code",
   "execution_count": 462,
   "metadata": {},
   "outputs": [
    {
     "data": {
      "text/plain": [
       "count    5170.000000 \n",
       "mean     6319.496232 \n",
       "std      3321.218955 \n",
       "min      1898.007675 \n",
       "25%      3722.554623 \n",
       "50%      5492.043286 \n",
       "75%      8199.630342 \n",
       "max      16589.712370\n",
       "Name: Customer Lifetime Value, dtype: float64"
      ]
     },
     "execution_count": 462,
     "metadata": {},
     "output_type": "execute_result"
    }
   ],
   "source": [
    "# Cek deskriptif statistik kolom 'Customer Lifetime Value' setelah filtering\n",
    "df_model['Customer Lifetime Value'].describe()"
   ]
  },
  {
   "cell_type": "markdown",
   "metadata": {},
   "source": [
    "**Number of Policies**"
   ]
  },
  {
   "cell_type": "code",
   "execution_count": 463,
   "metadata": {},
   "outputs": [
    {
     "data": {
      "image/png": "[encoded data removed]",
      "text/plain": [
       "<Figure size 432x288 with 1 Axes>"
      ]
     },
     "metadata": {
      "needs_background": "light"
     },
     "output_type": "display_data"
    }
   ],
   "source": [
    "df_model[['Number of Policies']].boxplot(rot=90);"
   ]
  },
  {
   "cell_type": "code",
   "execution_count": 464,
   "metadata": {},
   "outputs": [
    {
     "data": {
      "text/plain": [
       "count    5170.000000\n",
       "mean     3.050677   \n",
       "std      2.472473   \n",
       "min      1.000000   \n",
       "25%      1.000000   \n",
       "50%      2.000000   \n",
       "75%      4.000000   \n",
       "max      9.000000   \n",
       "Name: Number of Policies, dtype: float64"
      ]
     },
     "execution_count": 464,
     "metadata": {},
     "output_type": "execute_result"
    }
   ],
   "source": [
    "df_model['Number of Policies'].describe()"
   ]
  },
  {
   "cell_type": "code",
   "execution_count": 465,
   "metadata": {},
   "outputs": [
    {
     "data": {
      "text/plain": [
       "261"
      ]
     },
     "execution_count": 465,
     "metadata": {},
     "output_type": "execute_result"
    }
   ],
   "source": [
    "# Cek Number of Policies > 8.5\n",
    "df_model[df_model['Number of Policies'] > 8.5].count()['Number of Policies']"
   ]
  },
  {
   "cell_type": "code",
   "execution_count": 466,
   "metadata": {},
   "outputs": [
    {
     "data": {
      "text/plain": [
       "0.05048355899419729"
      ]
     },
     "execution_count": 466,
     "metadata": {},
     "output_type": "execute_result"
    }
   ],
   "source": [
    "# Percentage diluar IQR\n",
    "df_model[df_model['Number of Policies'] > 8.5].count()['Number of Policies']/df_model['Number of Policies'].count()"
   ]
  },
  {
   "cell_type": "markdown",
   "metadata": {},
   "source": [
    "**Konklusi Number of Policies**\n",
    "<br><br>\n",
    "Terlihat bahwa ada 75% data pada kolom Number of Policies bernilai kurang dari 4, sementara nilai maksimalnya 9. berarti ada skewness pada distribusinya, yaitu tail yang memanjang di sebelah kanan (Positive skewness). setelah mengurangi data CLV, Terdapat 261 data yang nilai Number of Policies nya lebih besar dari 8,5 (batas atas berdasarkan metode IQR).Oleh karena itu, data yang memiliki Number of Policies lebih besar dari 8,5 tidak akan dimasukkan ke dalam pemodelan, sehingga skewness-nya pun akan berkurang. Hal ini tentu akan menjadi limitasi untuk model yang nantinya dibangun."
   ]
  },
  {
   "cell_type": "code",
   "execution_count": 467,
   "metadata": {},
   "outputs": [
    {
     "data": {
      "image/png": "[encoded data removed]",
      "text/plain": [
       "<Figure size 1512x432 with 2 Axes>"
      ]
     },
     "metadata": {
      "needs_background": "light"
     },
     "output_type": "display_data"
    }
   ],
   "source": [
    "# Melakukan filtering pada data\n",
    "df_model = df_model[(df_model['Number of Policies'] <= 8.5)]\n",
    "\n",
    "# Plot distribusi data sebelum dan sesudah filtering\n",
    "fig, axes = plt.subplots(1,2, figsize=(21, 6))\n",
    "sns.distplot(df['Number of Policies'], ax=axes[0])\n",
    "sns.distplot(df_model['Number of Policies'], ax=axes[1])\n",
    "axes[0].set_xlabel('Number of Policies')\n",
    "axes[1].set_xlabel('Range Selected Number of Policies');"
   ]
  },
  {
   "cell_type": "code",
   "execution_count": 468,
   "metadata": {},
   "outputs": [
    {
     "data": {
      "text/plain": [
       "count    4909.000000\n",
       "mean     2.734365   \n",
       "std      2.110903   \n",
       "min      1.000000   \n",
       "25%      1.000000   \n",
       "50%      2.000000   \n",
       "75%      4.000000   \n",
       "max      8.000000   \n",
       "Name: Number of Policies, dtype: float64"
      ]
     },
     "execution_count": 468,
     "metadata": {},
     "output_type": "execute_result"
    }
   ],
   "source": [
    "# Cek deskriptif statistik kolom 'Customer Lifetime Value' setelah filtering\n",
    "df_model['Number of Policies'].describe()"
   ]
  },
  {
   "cell_type": "markdown",
   "metadata": {},
   "source": [
    "**Monthly Premium Auto**"
   ]
  },
  {
   "cell_type": "code",
   "execution_count": 469,
   "metadata": {},
   "outputs": [
    {
     "data": {
      "image/png": "[encoded data removed]",
      "text/plain": [
       "<Figure size 432x288 with 1 Axes>"
      ]
     },
     "metadata": {
      "needs_background": "light"
     },
     "output_type": "display_data"
    }
   ],
   "source": [
    "df_model[['Monthly Premium Auto']].boxplot(rot=90);"
   ]
  },
  {
   "cell_type": "code",
   "execution_count": 470,
   "metadata": {},
   "outputs": [
    {
     "data": {
      "text/plain": [
       "count    4909.000000\n",
       "mean     90.799756  \n",
       "std      31.333525  \n",
       "min      61.000000  \n",
       "25%      68.000000  \n",
       "50%      80.000000  \n",
       "75%      107.000000 \n",
       "max      297.000000 \n",
       "Name: Monthly Premium Auto, dtype: float64"
      ]
     },
     "execution_count": 470,
     "metadata": {},
     "output_type": "execute_result"
    }
   ],
   "source": [
    "df_model['Monthly Premium Auto'].describe()"
   ]
  },
  {
   "cell_type": "code",
   "execution_count": 471,
   "metadata": {},
   "outputs": [
    {
     "data": {
      "text/plain": [
       "175"
      ]
     },
     "execution_count": 471,
     "metadata": {},
     "output_type": "execute_result"
    }
   ],
   "source": [
    "# Cek Monthly Premium Auto > 170.5\n",
    "df_model[df_model['Monthly Premium Auto'] > 170.5].count()['Monthly Premium Auto']"
   ]
  },
  {
   "cell_type": "code",
   "execution_count": 472,
   "metadata": {},
   "outputs": [
    {
     "data": {
      "text/plain": [
       "0.035648808311265025"
      ]
     },
     "execution_count": 472,
     "metadata": {},
     "output_type": "execute_result"
    }
   ],
   "source": [
    "# Percentage diluar IQR\n",
    "df_model[df_model['Monthly Premium Auto'] > 170.5].count()['Monthly Premium Auto']/df_model['Monthly Premium Auto'].count()"
   ]
  },
  {
   "cell_type": "markdown",
   "metadata": {},
   "source": [
    "**Konklusi Monthly Premium Auto**\n",
    "<br><br>\n",
    "Terlihat bahwa ada 75% data pada kolom Monthly Premium Auto bernilai kurang dari 107, sementara nilai maksimalnya 197. berarti ada skewness pada distribusinya, yaitu tail yang memanjang di sebelah kanan (Positive skewness). setelah mengurangi data CLV, Terdapat 175 data yang nilai Monthly Premium Auto nya lebih besar dari 170.5 (batas atas berdasarkan metode IQR).Oleh karena itu, data yang memiliki Monthly Premium Auto lebih besar dari 170.5 tidak akan dimasukkan ke dalam pemodelan, sehingga skewness-nya pun akan berkurang. Hal ini tentu akan menjadi limitasi untuk model yang nantinya dibangun."
   ]
  },
  {
   "cell_type": "code",
   "execution_count": 473,
   "metadata": {},
   "outputs": [
    {
     "data": {
      "image/png": "[encoded data removed]",
      "text/plain": [
       "<Figure size 1512x432 with 2 Axes>"
      ]
     },
     "metadata": {
      "needs_background": "light"
     },
     "output_type": "display_data"
    }
   ],
   "source": [
    "# Melakukan filtering pada data\n",
    "df_model = df_model[(df_model['Monthly Premium Auto'] <= 170.5)]\n",
    "\n",
    "# Plot distribusi data sebelum dan sesudah filtering\n",
    "fig, axes = plt.subplots(1,2, figsize=(21, 6))\n",
    "sns.distplot(df['Monthly Premium Auto'], ax=axes[0])\n",
    "sns.distplot(df_model['Monthly Premium Auto'], ax=axes[1])\n",
    "axes[0].set_xlabel('Monthly Premium Auto')\n",
    "axes[1].set_xlabel('Range Selected Monthly Premium Auto');"
   ]
  },
  {
   "cell_type": "code",
   "execution_count": 474,
   "metadata": {},
   "outputs": [
    {
     "data": {
      "text/plain": [
       "count    4734.000000\n",
       "mean     86.692438  \n",
       "std      22.644993  \n",
       "min      61.000000  \n",
       "25%      68.000000  \n",
       "50%      78.000000  \n",
       "75%      104.000000 \n",
       "max      170.000000 \n",
       "Name: Monthly Premium Auto, dtype: float64"
      ]
     },
     "execution_count": 474,
     "metadata": {},
     "output_type": "execute_result"
    }
   ],
   "source": [
    "# Cek deskriptif statistik kolom 'Customer Lifetime Value' setelah filtering\n",
    "df_model['Monthly Premium Auto'].describe()"
   ]
  },
  {
   "cell_type": "markdown",
   "metadata": {},
   "source": [
    "**Total Claim Amount**"
   ]
  },
  {
   "cell_type": "code",
   "execution_count": 475,
   "metadata": {},
   "outputs": [
    {
     "data": {
      "image/png": "[encoded data removed]",
      "text/plain": [
       "<Figure size 432x288 with 1 Axes>"
      ]
     },
     "metadata": {
      "needs_background": "light"
     },
     "output_type": "display_data"
    }
   ],
   "source": [
    "df_model[['Total Claim Amount']].boxplot(rot=90);"
   ]
  },
  {
   "cell_type": "code",
   "execution_count": 476,
   "metadata": {},
   "outputs": [
    {
     "data": {
      "text/plain": [
       "count    4734.000000\n",
       "mean     399.911116 \n",
       "std      233.370887 \n",
       "min      0.423310   \n",
       "25%      259.622260 \n",
       "50%      364.800000 \n",
       "75%      528.000000 \n",
       "max      1516.383753\n",
       "Name: Total Claim Amount, dtype: float64"
      ]
     },
     "execution_count": 476,
     "metadata": {},
     "output_type": "execute_result"
    }
   ],
   "source": [
    "df_model['Total Claim Amount'].describe()"
   ]
  },
  {
   "cell_type": "code",
   "execution_count": 477,
   "metadata": {},
   "outputs": [
    {
     "data": {
      "text/plain": [
       "104"
      ]
     },
     "execution_count": 477,
     "metadata": {},
     "output_type": "execute_result"
    }
   ],
   "source": [
    "# Cek Total Claim Amount > 974.566507\n",
    "\n",
    "df_model[df_model['Total Claim Amount'] > 974.566507\n",
    "].count()['Total Claim Amount']"
   ]
  },
  {
   "cell_type": "code",
   "execution_count": 478,
   "metadata": {},
   "outputs": [
    {
     "data": {
      "text/plain": [
       "0.021968736797634135"
      ]
     },
     "execution_count": 478,
     "metadata": {},
     "output_type": "execute_result"
    }
   ],
   "source": [
    "# Percentage diluar IQR\n",
    "df_model[df_model['Total Claim Amount'] > 974.566507].count()['Total Claim Amount']/df_model['Total Claim Amount'].count()"
   ]
  },
  {
   "cell_type": "markdown",
   "metadata": {},
   "source": [
    "**Konklusi Total Claim Amount**\n",
    "<br><br>\n",
    "Terlihat bahwa ada 75% data pada kolom Customer Lifetime Value bernilai kurang dari 528, sementara nilai maksimalnya 1516. berarti ada skewness pada distribusinya, yaitu tail yang memanjang di sebelah kana (Positive skewness). Terdapat 104 data yang nilai Total Claim Amount nya lebih besar dari 974.566507 (batas atas berdasarkan metode IQR). Oleh karena itu, data yang memiliki Total Claim Amount lebih besar dari 974.566507 tidak akan dimasukkan ke dalam pemodelan, sehingga skewness-nya pun akan berkurang. Hal ini tentu akan menjadi limitasi untuk model yang nantinya dibangun. "
   ]
  },
  {
   "cell_type": "code",
   "execution_count": 479,
   "metadata": {},
   "outputs": [
    {
     "data": {
      "image/png": "[encoded data removed]",
      "text/plain": [
       "<Figure size 1512x432 with 2 Axes>"
      ]
     },
     "metadata": {
      "needs_background": "light"
     },
     "output_type": "display_data"
    }
   ],
   "source": [
    "# Melakukan filtering pada data\n",
    "df_model = df_model[(df_model['Total Claim Amount'] <= 974.566507)]\n",
    "\n",
    "# Plot distribusi data sebelum dan sesudah filtering\n",
    "fig, axes = plt.subplots(1,2, figsize=(21, 6))\n",
    "sns.distplot(df['Total Claim Amount'], ax=axes[0])\n",
    "sns.distplot(df_model['Total Claim Amount'], ax=axes[1])\n",
    "axes[0].set_xlabel('Total Claim Amount')\n",
    "axes[1].set_xlabel('Range Selected Total Claim Amount');"
   ]
  },
  {
   "cell_type": "code",
   "execution_count": 480,
   "metadata": {},
   "outputs": [
    {
     "data": {
      "text/plain": [
       "count    4630.000000\n",
       "mean     383.073130 \n",
       "std      205.743648 \n",
       "min      0.423310   \n",
       "25%      254.184022 \n",
       "50%      355.200000 \n",
       "75%      518.400000 \n",
       "max      972.000000 \n",
       "Name: Total Claim Amount, dtype: float64"
      ]
     },
     "execution_count": 480,
     "metadata": {},
     "output_type": "execute_result"
    }
   ],
   "source": [
    "# Cek deskriptif statistik kolom 'Customer Lifetime Value' setelah filtering\n",
    "df_model['Total Claim Amount'].describe()"
   ]
  },
  {
   "cell_type": "markdown",
   "metadata": {},
   "source": [
    "**Clean Dataset**"
   ]
  },
  {
   "cell_type": "code",
   "execution_count": 481,
   "metadata": {},
   "outputs": [
    {
     "data": {
      "text/html": [
       "<div>\n",
       "<style scoped>\n",
       "    .dataframe tbody tr th:only-of-type {\n",
       "        vertical-align: middle;\n",
       "    }\n",
       "\n",
       "    .dataframe tbody tr th {\n",
       "        vertical-align: top;\n",
       "    }\n",
       "\n",
       "    .dataframe thead th {\n",
       "        text-align: right;\n",
       "    }\n",
       "</style>\n",
       "<table border=\"1\" class=\"dataframe\">\n",
       "  <thead>\n",
       "    <tr style=\"text-align: right;\">\n",
       "      <th></th>\n",
       "      <th>Vehicle Class</th>\n",
       "      <th>Coverage</th>\n",
       "      <th>Renew Offer Type</th>\n",
       "      <th>EmploymentStatus</th>\n",
       "      <th>Marital Status</th>\n",
       "      <th>Education</th>\n",
       "      <th>Number of Policies</th>\n",
       "      <th>Monthly Premium Auto</th>\n",
       "      <th>Total Claim Amount</th>\n",
       "      <th>Income</th>\n",
       "      <th>Customer Lifetime Value</th>\n",
       "    </tr>\n",
       "  </thead>\n",
       "  <tbody>\n",
       "    <tr>\n",
       "      <th>0</th>\n",
       "      <td>Four-Door Car</td>\n",
       "      <td>Extended</td>\n",
       "      <td>Offer1</td>\n",
       "      <td>Retired</td>\n",
       "      <td>Divorced</td>\n",
       "      <td>High School or Below</td>\n",
       "      <td>2.0</td>\n",
       "      <td>90.0</td>\n",
       "      <td>571.479602</td>\n",
       "      <td>11828.0</td>\n",
       "      <td>10083.486880</td>\n",
       "    </tr>\n",
       "    <tr>\n",
       "      <th>1</th>\n",
       "      <td>Four-Door Car</td>\n",
       "      <td>Basic</td>\n",
       "      <td>Offer1</td>\n",
       "      <td>Employed</td>\n",
       "      <td>Married</td>\n",
       "      <td>College</td>\n",
       "      <td>6.0</td>\n",
       "      <td>62.0</td>\n",
       "      <td>114.514440</td>\n",
       "      <td>44762.0</td>\n",
       "      <td>4943.386117</td>\n",
       "    </tr>\n",
       "    <tr>\n",
       "      <th>2</th>\n",
       "      <td>Two-Door Car</td>\n",
       "      <td>Basic</td>\n",
       "      <td>Offer1</td>\n",
       "      <td>Retired</td>\n",
       "      <td>Married</td>\n",
       "      <td>Master</td>\n",
       "      <td>2.0</td>\n",
       "      <td>62.0</td>\n",
       "      <td>257.248789</td>\n",
       "      <td>21514.0</td>\n",
       "      <td>11981.984810</td>\n",
       "    </tr>\n",
       "    <tr>\n",
       "      <th>3</th>\n",
       "      <td>Four-Door Car</td>\n",
       "      <td>Premium</td>\n",
       "      <td>Offer3</td>\n",
       "      <td>Disabled</td>\n",
       "      <td>Married</td>\n",
       "      <td>High School or Below</td>\n",
       "      <td>1.0</td>\n",
       "      <td>116.0</td>\n",
       "      <td>556.800000</td>\n",
       "      <td>17913.0</td>\n",
       "      <td>4550.856045</td>\n",
       "    </tr>\n",
       "    <tr>\n",
       "      <th>4</th>\n",
       "      <td>Two-Door Car</td>\n",
       "      <td>Basic</td>\n",
       "      <td>Offer3</td>\n",
       "      <td>Medical Leave</td>\n",
       "      <td>Married</td>\n",
       "      <td>High School or Below</td>\n",
       "      <td>1.0</td>\n",
       "      <td>62.0</td>\n",
       "      <td>355.820799</td>\n",
       "      <td>19030.0</td>\n",
       "      <td>2372.155492</td>\n",
       "    </tr>\n",
       "  </tbody>\n",
       "</table>\n",
       "</div>"
      ],
      "text/plain": [
       "   Vehicle Class  Coverage Renew Offer Type EmploymentStatus Marital Status  \\\n",
       "0  Four-Door Car  Extended  Offer1           Retired          Divorced        \n",
       "1  Four-Door Car  Basic     Offer1           Employed         Married         \n",
       "2  Two-Door Car   Basic     Offer1           Retired          Married         \n",
       "3  Four-Door Car  Premium   Offer3           Disabled         Married         \n",
       "4  Two-Door Car   Basic     Offer3           Medical Leave    Married         \n",
       "\n",
       "              Education  Number of Policies  Monthly Premium Auto  \\\n",
       "0  High School or Below  2.0                 90.0                   \n",
       "1  College               6.0                 62.0                   \n",
       "2  Master                2.0                 62.0                   \n",
       "3  High School or Below  1.0                 116.0                  \n",
       "4  High School or Below  1.0                 62.0                   \n",
       "\n",
       "   Total Claim Amount   Income  Customer Lifetime Value  \n",
       "0  571.479602          11828.0  10083.486880             \n",
       "1  114.514440          44762.0  4943.386117              \n",
       "2  257.248789          21514.0  11981.984810             \n",
       "3  556.800000          17913.0  4550.856045              \n",
       "4  355.820799          19030.0  2372.155492              "
      ]
     },
     "execution_count": 481,
     "metadata": {},
     "output_type": "execute_result"
    }
   ],
   "source": [
    "# Cek dataset yang sudah bersih\n",
    "df_model.head()"
   ]
  },
  {
   "cell_type": "code",
   "execution_count": 482,
   "metadata": {},
   "outputs": [
    {
     "name": "stdout",
     "output_type": "stream",
     "text": [
      "<class 'pandas.core.frame.DataFrame'>\n",
      "Int64Index: 4630 entries, 0 to 5666\n",
      "Data columns (total 11 columns):\n",
      " #   Column                   Non-Null Count  Dtype  \n",
      "---  ------                   --------------  -----  \n",
      " 0   Vehicle Class            4630 non-null   object \n",
      " 1   Coverage                 4630 non-null   object \n",
      " 2   Renew Offer Type         4630 non-null   object \n",
      " 3   EmploymentStatus         4630 non-null   object \n",
      " 4   Marital Status           4630 non-null   object \n",
      " 5   Education                4630 non-null   object \n",
      " 6   Number of Policies       4630 non-null   float64\n",
      " 7   Monthly Premium Auto     4630 non-null   float64\n",
      " 8   Total Claim Amount       4630 non-null   float64\n",
      " 9   Income                   4630 non-null   float64\n",
      " 10  Customer Lifetime Value  4630 non-null   float64\n",
      "dtypes: float64(5), object(6)\n",
      "memory usage: 434.1+ KB\n"
     ]
    }
   ],
   "source": [
    "# Cek kembali info dataset\n",
    "df_model.info()"
   ]
  },
  {
   "cell_type": "markdown",
   "metadata": {},
   "source": [
    "Konklusi Clean Data:\n",
    "Pada akhirnya tersisa 4630 baris data dari 5669 baris data. berarti sekitar 18% dari data sudah tereliminasi dengasn asumsi dan argumen yang disampaikan di proses sebelumnya"
   ]
  },
  {
   "cell_type": "markdown",
   "metadata": {},
   "source": [
    "### **4_Modelling**"
   ]
  },
  {
   "cell_type": "code",
   "execution_count": 483,
   "metadata": {},
   "outputs": [],
   "source": [
    "# Import library untuk modeling\n",
    "\n",
    "from sklearn.model_selection import train_test_split, cross_val_score, RandomizedSearchCV, GridSearchCV, KFold\n",
    "\n",
    "import category_encoders as ce\n",
    "from sklearn.preprocessing import OneHotEncoder\n",
    "from category_encoders import BinaryEncoder, OrdinalEncoder\n",
    "from sklearn.compose import ColumnTransformer\n",
    "from sklearn.pipeline import Pipeline\n",
    "\n",
    "from sklearn.linear_model import LinearRegression\n",
    "from sklearn.neighbors import KNeighborsRegressor\n",
    "from sklearn.tree import DecisionTreeRegressor\n",
    "from sklearn.ensemble import RandomForestRegressor\n",
    "from xgboost.sklearn import XGBRegressor\n",
    "from sklearn.compose import TransformedTargetRegressor\n",
    "\n",
    "from sklearn.preprocessing import StandardScaler\n",
    "\n",
    "from sklearn.metrics import r2_score, mean_squared_error, mean_absolute_error, mean_absolute_percentage_error"
   ]
  },
  {
   "cell_type": "markdown",
   "metadata": {},
   "source": [
    "#### **4_1_Encoding**"
   ]
  },
  {
   "cell_type": "markdown",
   "metadata": {},
   "source": [
    "Agar dapat menggunakan semua fitur yang dipilih, maka fitur-fitur kategorikal harus diubah menjadi fitur numerikal. Kita dapat menggunakan ColumnTransformer untuk dapat mengubah tipe datanya, yang mana nanti dapat diaplikasikan pada pipeline model."
   ]
  },
  {
   "cell_type": "code",
   "execution_count": 484,
   "metadata": {},
   "outputs": [],
   "source": [
    "# ordinal mapping\n",
    "ordinal_mapping = [\n",
    "    {'col':'Education', 'mapping':{'Doctor':1, 'Master':2, 'Bachelor':3, 'College':4,'High School or Below':5, None:0}} \n",
    "] \n",
    "\n",
    "# Mengubah fitur kategorikal menjadi numerikal\n",
    "transformer = ColumnTransformer([\n",
    "    ('ordinal', OrdinalEncoder(cols=['Education'], mapping=ordinal_mapping), ['Education']),\n",
    "    ('onehot', OneHotEncoder(drop='first'), ['Vehicle Class','Coverage','Renew Offer Type','EmploymentStatus','Marital Status']),\n",
    "], remainder='passthrough')"
   ]
  },
  {
   "cell_type": "markdown",
   "metadata": {},
   "source": [
    "#### **4_2_Data Splitting**"
   ]
  },
  {
   "cell_type": "code",
   "execution_count": 485,
   "metadata": {},
   "outputs": [],
   "source": [
    "# Memisahkan data independen variabel dengan target\n",
    "X = df_model.drop(['Customer Lifetime Value'], axis=1)\n",
    "y = df_model['Customer Lifetime Value']"
   ]
  },
  {
   "cell_type": "markdown",
   "metadata": {},
   "source": [
    "#### **4_3_Train and Test Splitting**"
   ]
  },
  {
   "cell_type": "code",
   "execution_count": 486,
   "metadata": {},
   "outputs": [],
   "source": [
    "# Splitting data training dan test dengan proporsi 70:30\n",
    "X_train, X_test, y_train, y_test= train_test_split(\n",
    "    X,\n",
    "    y,  \n",
    "    test_size=0.3,\n",
    "    random_state=1)"
   ]
  },
  {
   "cell_type": "markdown",
   "metadata": {},
   "source": [
    "#### **4_4_Choose a Benchmark Model**"
   ]
  },
  {
   "cell_type": "code",
   "execution_count": 487,
   "metadata": {},
   "outputs": [
    {
     "name": "stdout",
     "output_type": "stream",
     "text": [
      "[-2930.36970757 -3256.6654568  -2708.99619257 -2956.05125919\n",
      " -2806.9590324 ] TransformedTargetRegressor(func=<ufunc 'log'>, inverse_func=<ufunc 'exp'>,\n",
      "                           regressor=LinearRegression())\n",
      "[-2034.94567146 -2238.12613529 -1934.01501646 -2098.00476462\n",
      " -1999.55085496] TransformedTargetRegressor(func=<ufunc 'log'>, inverse_func=<ufunc 'exp'>,\n",
      "                           regressor=LinearRegression())\n",
      "[-0.32597029 -0.33793418 -0.33162715 -0.34142317 -0.32516004] TransformedTargetRegressor(func=<ufunc 'log'>, inverse_func=<ufunc 'exp'>,\n",
      "                           regressor=LinearRegression())\n",
      "[-2905.89997178 -3070.10789954 -2765.06320404 -2814.01742487\n",
      " -2780.31126731] TransformedTargetRegressor(func=<ufunc 'log'>, inverse_func=<ufunc 'exp'>,\n",
      "                           regressor=KNeighborsRegressor())\n",
      "[-1923.02662544 -1992.93925568 -1874.85519065 -1866.39097897\n",
      " -1891.24140025] TransformedTargetRegressor(func=<ufunc 'log'>, inverse_func=<ufunc 'exp'>,\n",
      "                           regressor=KNeighborsRegressor())\n",
      "[-0.32561633 -0.31547013 -0.34347432 -0.31498187 -0.33183534] TransformedTargetRegressor(func=<ufunc 'log'>, inverse_func=<ufunc 'exp'>,\n",
      "                           regressor=KNeighborsRegressor())\n",
      "[-1311.54488428 -1314.21235898 -1202.82843303 -1278.91609681\n",
      " -1319.62377843] TransformedTargetRegressor(func=<ufunc 'log'>, inverse_func=<ufunc 'exp'>,\n",
      "                           regressor=DecisionTreeRegressor(random_state=1))\n",
      "[-429.04657279 -416.73383701 -356.74480209 -402.11592443 -428.31532433] TransformedTargetRegressor(func=<ufunc 'log'>, inverse_func=<ufunc 'exp'>,\n",
      "                           regressor=DecisionTreeRegressor(random_state=1))\n",
      "[-0.05114538 -0.0486704  -0.0486143  -0.05087858 -0.05473055] TransformedTargetRegressor(func=<ufunc 'log'>, inverse_func=<ufunc 'exp'>,\n",
      "                           regressor=DecisionTreeRegressor(random_state=1))\n",
      "[ -865.02835324 -1076.96004885  -842.51397008  -966.66945906\n",
      "  -822.04161406] TransformedTargetRegressor(func=<ufunc 'log'>, inverse_func=<ufunc 'exp'>,\n",
      "                           regressor=RandomForestRegressor(random_state=1))\n",
      "[-297.86053194 -364.11646079 -308.15255655 -333.93695982 -302.38950712] TransformedTargetRegressor(func=<ufunc 'log'>, inverse_func=<ufunc 'exp'>,\n",
      "                           regressor=RandomForestRegressor(random_state=1))\n",
      "[-0.03393113 -0.04073004 -0.03944048 -0.04108447 -0.03784837] TransformedTargetRegressor(func=<ufunc 'log'>, inverse_func=<ufunc 'exp'>,\n",
      "                           regressor=RandomForestRegressor(random_state=1))\n",
      "[ -946.40253703 -1062.80449348  -835.65916289  -961.00000065\n",
      "  -864.47378104] TransformedTargetRegressor(func=<ufunc 'log'>, inverse_func=<ufunc 'exp'>,\n",
      "                           regressor=XGBRegressor(base_score=None, booster=None,\n",
      "                                                  callbacks=None,\n",
      "                                                  colsample_bylevel=None,\n",
      "                                                  colsample_bynode=None,\n",
      "                                                  colsample_bytree=None,\n",
      "                                                  early_stopping_rounds=None,\n",
      "                                                  enable_categorical=False,\n",
      "                                                  eval_metric=None, gamma=None,\n",
      "                                                  gpu_id=None, grow_policy=None,\n",
      "                                                  importance_type=None,\n",
      "                                                  interaction_constraints=None,\n",
      "                                                  learning_rate=None,\n",
      "                                                  max_bin=None,\n",
      "                                                  max_cat_to_onehot=None,\n",
      "                                                  max_delta_step=None,\n",
      "                                                  max_depth=None,\n",
      "                                                  max_leaves=None,\n",
      "                                                  min_child_weight=None,\n",
      "                                                  missing=nan,\n",
      "                                                  monotone_constraints=None,\n",
      "                                                  n_estimators=100, n_jobs=None,\n",
      "                                                  num_parallel_tree=None,\n",
      "                                                  predictor=None,\n",
      "                                                  random_state=1,\n",
      "                                                  reg_alpha=None,\n",
      "                                                  reg_lambda=None, ...))\n",
      "[-336.59226576 -365.72984654 -320.74877774 -366.33902888 -350.85894146] TransformedTargetRegressor(func=<ufunc 'log'>, inverse_func=<ufunc 'exp'>,\n",
      "                           regressor=XGBRegressor(base_score=None, booster=None,\n",
      "                                                  callbacks=None,\n",
      "                                                  colsample_bylevel=None,\n",
      "                                                  colsample_bynode=None,\n",
      "                                                  colsample_bytree=None,\n",
      "                                                  early_stopping_rounds=None,\n",
      "                                                  enable_categorical=False,\n",
      "                                                  eval_metric=None, gamma=None,\n",
      "                                                  gpu_id=None, grow_policy=None,\n",
      "                                                  importance_type=None,\n",
      "                                                  interaction_constraints=None,\n",
      "                                                  learning_rate=None,\n",
      "                                                  max_bin=None,\n",
      "                                                  max_cat_to_onehot=None,\n",
      "                                                  max_delta_step=None,\n",
      "                                                  max_depth=None,\n",
      "                                                  max_leaves=None,\n",
      "                                                  min_child_weight=None,\n",
      "                                                  missing=nan,\n",
      "                                                  monotone_constraints=None,\n",
      "                                                  n_estimators=100, n_jobs=None,\n",
      "                                                  num_parallel_tree=None,\n",
      "                                                  predictor=None,\n",
      "                                                  random_state=1,\n",
      "                                                  reg_alpha=None,\n",
      "                                                  reg_lambda=None, ...))\n",
      "[-0.04242098 -0.04412879 -0.04495762 -0.04807102 -0.04790965] TransformedTargetRegressor(func=<ufunc 'log'>, inverse_func=<ufunc 'exp'>,\n",
      "                           regressor=XGBRegressor(base_score=None, booster=None,\n",
      "                                                  callbacks=None,\n",
      "                                                  colsample_bylevel=None,\n",
      "                                                  colsample_bynode=None,\n",
      "                                                  colsample_bytree=None,\n",
      "                                                  early_stopping_rounds=None,\n",
      "                                                  enable_categorical=False,\n",
      "                                                  eval_metric=None, gamma=None,\n",
      "                                                  gpu_id=None, grow_policy=None,\n",
      "                                                  importance_type=None,\n",
      "                                                  interaction_constraints=None,\n",
      "                                                  learning_rate=None,\n",
      "                                                  max_bin=None,\n",
      "                                                  max_cat_to_onehot=None,\n",
      "                                                  max_delta_step=None,\n",
      "                                                  max_depth=None,\n",
      "                                                  max_leaves=None,\n",
      "                                                  min_child_weight=None,\n",
      "                                                  missing=nan,\n",
      "                                                  monotone_constraints=None,\n",
      "                                                  n_estimators=100, n_jobs=None,\n",
      "                                                  num_parallel_tree=None,\n",
      "                                                  predictor=None,\n",
      "                                                  random_state=1,\n",
      "                                                  reg_alpha=None,\n",
      "                                                  reg_lambda=None, ...))\n"
     ]
    }
   ],
   "source": [
    "# Define algoritma yang digunakan\n",
    "lr = LinearRegression()\n",
    "knn = KNeighborsRegressor()\n",
    "dt = DecisionTreeRegressor(random_state=1)\n",
    "rf = RandomForestRegressor(random_state=1)\n",
    "xgb = XGBRegressor(random_state=1)\n",
    "\n",
    "# Pemodelan dilakukan dalam skala logaritmik, namun kemudian di-inverse kembali untuk interpretasi\n",
    "log_lr = TransformedTargetRegressor(lr, func=np.log, inverse_func=np.exp)\n",
    "log_knn = TransformedTargetRegressor(knn, func=np.log, inverse_func=np.exp)\n",
    "log_dt = TransformedTargetRegressor(dt, func=np.log, inverse_func=np.exp)\n",
    "log_rf = TransformedTargetRegressor(rf, func=np.log, inverse_func=np.exp)\n",
    "log_xgb = TransformedTargetRegressor(xgb, func=np.log, inverse_func=np.exp)\n",
    "\n",
    "# Scaling data\n",
    "scaler = StandardScaler()\n",
    "\n",
    "# Kandidat algoritma\n",
    "models = [log_lr, log_knn, log_dt, log_rf, log_xgb]\n",
    "\n",
    "score_rmse = []\n",
    "nilai_mean_rmse = []\n",
    "nilai_std_rmse = []\n",
    "\n",
    "score_mae = []\n",
    "nilai_mean_mae = []\n",
    "nilai_std_mae = []\n",
    "\n",
    "score_mape = []\n",
    "nilai_mean_mape = []\n",
    "nilai_std_mape = []\n",
    "\n",
    "# Mencari algoritma terbaik berdasarkan nilai MAE\n",
    "for i in models:\n",
    "    \n",
    "    crossval = KFold(n_splits=5, shuffle=True, random_state=1)\n",
    "\n",
    "    estimator = Pipeline([\n",
    "        ('preprocessing', transformer),\n",
    "        ('scaler', scaler),\n",
    "        ('model', i)\n",
    "    ])\n",
    "\n",
    "    # RMSE\n",
    "    model_cv_rmse = cross_val_score(\n",
    "        estimator, \n",
    "        X_train, \n",
    "        y_train, \n",
    "        cv=crossval, \n",
    "        scoring='neg_root_mean_squared_error', \n",
    "        error_score='raise'\n",
    "        )\n",
    "\n",
    "    print(model_cv_rmse, i)\n",
    "\n",
    "    score_rmse.append(model_cv_rmse)\n",
    "    nilai_mean_rmse.append(model_cv_rmse.mean())\n",
    "    nilai_std_rmse.append(model_cv_rmse.std())\n",
    "\n",
    "    # MAE\n",
    "    model_cv_mae = cross_val_score(\n",
    "        estimator, \n",
    "        X_train, \n",
    "        y_train, \n",
    "        cv=crossval, \n",
    "        scoring='neg_mean_absolute_error', \n",
    "        error_score='raise'\n",
    "        )\n",
    "\n",
    "    print(model_cv_mae, i)\n",
    "\n",
    "    score_mae.append(model_cv_mae)\n",
    "    nilai_mean_mae.append(model_cv_mae.mean())\n",
    "    nilai_std_mae.append(model_cv_mae.std())\n",
    "\n",
    "    # MAPE\n",
    "    model_cv_mape = cross_val_score(\n",
    "        estimator, \n",
    "        X_train, \n",
    "        y_train, \n",
    "        cv=crossval, \n",
    "        scoring='neg_mean_absolute_percentage_error', \n",
    "        error_score='raise'\n",
    "        )\n",
    "\n",
    "    print(model_cv_mape, i)\n",
    "\n",
    "    score_mape.append(model_cv_mape)\n",
    "    nilai_mean_mape.append(model_cv_mape.mean())\n",
    "    nilai_std_mape.append(model_cv_mape.std())"
   ]
  },
  {
   "cell_type": "code",
   "execution_count": 488,
   "metadata": {},
   "outputs": [
    {
     "data": {
      "text/html": [
       "<div>\n",
       "<style scoped>\n",
       "    .dataframe tbody tr th:only-of-type {\n",
       "        vertical-align: middle;\n",
       "    }\n",
       "\n",
       "    .dataframe tbody tr th {\n",
       "        vertical-align: top;\n",
       "    }\n",
       "\n",
       "    .dataframe thead th {\n",
       "        text-align: right;\n",
       "    }\n",
       "</style>\n",
       "<table border=\"1\" class=\"dataframe\">\n",
       "  <thead>\n",
       "    <tr style=\"text-align: right;\">\n",
       "      <th></th>\n",
       "      <th>Model</th>\n",
       "      <th>Mean_RMSE</th>\n",
       "      <th>Std_RMSE</th>\n",
       "      <th>Mean_MAE</th>\n",
       "      <th>Std_MAE</th>\n",
       "      <th>Mean_MAPE</th>\n",
       "      <th>Std_MAPE</th>\n",
       "    </tr>\n",
       "  </thead>\n",
       "  <tbody>\n",
       "    <tr>\n",
       "      <th>0</th>\n",
       "      <td>Linear Regression</td>\n",
       "      <td>-2931.808330</td>\n",
       "      <td>185.124033</td>\n",
       "      <td>-2060.928489</td>\n",
       "      <td>103.269556</td>\n",
       "      <td>-0.332423</td>\n",
       "      <td>0.006425</td>\n",
       "    </tr>\n",
       "    <tr>\n",
       "      <th>1</th>\n",
       "      <td>KNN Regressor</td>\n",
       "      <td>-2867.079954</td>\n",
       "      <td>112.675813</td>\n",
       "      <td>-1909.690690</td>\n",
       "      <td>45.906261</td>\n",
       "      <td>-0.326276</td>\n",
       "      <td>0.010691</td>\n",
       "    </tr>\n",
       "    <tr>\n",
       "      <th>2</th>\n",
       "      <td>DecisionTree Regressor</td>\n",
       "      <td>-1285.425110</td>\n",
       "      <td>43.692277</td>\n",
       "      <td>-406.591292</td>\n",
       "      <td>26.772172</td>\n",
       "      <td>-0.050808</td>\n",
       "      <td>0.002231</td>\n",
       "    </tr>\n",
       "    <tr>\n",
       "      <th>3</th>\n",
       "      <td>RandomForest Regressor</td>\n",
       "      <td>-914.642689</td>\n",
       "      <td>95.176471</td>\n",
       "      <td>-321.291203</td>\n",
       "      <td>24.790371</td>\n",
       "      <td>-0.038607</td>\n",
       "      <td>0.002599</td>\n",
       "    </tr>\n",
       "    <tr>\n",
       "      <th>4</th>\n",
       "      <td>XGBoost Regressor</td>\n",
       "      <td>-934.067995</td>\n",
       "      <td>79.972761</td>\n",
       "      <td>-348.053772</td>\n",
       "      <td>17.501954</td>\n",
       "      <td>-0.045498</td>\n",
       "      <td>0.002194</td>\n",
       "    </tr>\n",
       "  </tbody>\n",
       "</table>\n",
       "</div>"
      ],
      "text/plain": [
       "                    Model    Mean_RMSE    Std_RMSE     Mean_MAE     Std_MAE  \\\n",
       "0  Linear Regression      -2931.808330  185.124033 -2060.928489  103.269556   \n",
       "1  KNN Regressor          -2867.079954  112.675813 -1909.690690  45.906261    \n",
       "2  DecisionTree Regressor -1285.425110  43.692277  -406.591292   26.772172    \n",
       "3  RandomForest Regressor -914.642689   95.176471  -321.291203   24.790371    \n",
       "4  XGBoost Regressor      -934.067995   79.972761  -348.053772   17.501954    \n",
       "\n",
       "   Mean_MAPE  Std_MAPE  \n",
       "0 -0.332423   0.006425  \n",
       "1 -0.326276   0.010691  \n",
       "2 -0.050808   0.002231  \n",
       "3 -0.038607   0.002599  \n",
       "4 -0.045498   0.002194  "
      ]
     },
     "execution_count": 488,
     "metadata": {},
     "output_type": "execute_result"
    }
   ],
   "source": [
    "# Evaluasi hasil dari 5 kandidat algoritma yang digunakan\n",
    "pd.DataFrame({\n",
    "    'Model': ['Linear Regression', 'KNN Regressor', 'DecisionTree Regressor', 'RandomForest Regressor', 'XGBoost Regressor'],\n",
    "    'Mean_RMSE': nilai_mean_rmse,\n",
    "    'Std_RMSE': nilai_std_rmse,\n",
    "    'Mean_MAE': nilai_mean_mae,\n",
    "    'Std_MAE': nilai_std_mae,\n",
    "    'Mean_MAPE': nilai_mean_mape,\n",
    "    'Std_MAPE': nilai_std_mape\n",
    "})"
   ]
  },
  {
   "cell_type": "markdown",
   "metadata": {},
   "source": [
    "Terdapat perbedaan cukup signifikan antara nilai RMSE dan MAE, di mana nilai RMSE lebih tinggi karena nilai residuals atau error-nya dikuadratkan terlebih dahulu sebelum dirata-ratakan. Hal ini menyebabkan RMSE akan memberikan 'weight' yang lebih tinggi untuk nilai error yang besar. Dengan kata lain, terdapat nilai-nilai error yang besar yang dihasilkan oleh semua algoritma yang digunakan, sehingga ada perbedaan signifikan antara nilai RMSE dan MAE.\n",
    "\n",
    "- Melihat mean dan standard deviasi, dan berdasarkan nilai RMSE, MAE, dan MAPE, bisa di konklusikan bahwa XGBoost adalah model terbaik.\n",
    "- Selanjutnya, akan dilakukan prediksi pada test set dengan benchmark model terbaik, yaitu XGBoost. \n"
   ]
  },
  {
   "cell_type": "markdown",
   "metadata": {},
   "source": [
    "#### **4_5_Predict to Test Set with the Benchmark Model**\n",
    "\n",
    "Prediksi pada test set dengan menggunakan model XGBoost\n",
    "\n",
    "XGBoost (extreme gradient Boosting) :\n",
    "adalah sebuah metode machine learning menggunakann gradient boosting decision tree algorithm. \n",
    "- Boosting adalah sebuah teknik Ensemble dimana model baru akan ditambah kedalam sebuah model awal, dengan tujuan membenarkan error / kesalahan dari model awal. \n",
    "- Sementara Gradiant boosting adalah cara dimana model baru yang dibuat akan mencoba memprediksi residual / error dari model awal, yang kemudian di gabung untuk membuat prediksi final. model ini disebut gradient boosting karena menggunakan 'gradient descent algorithm' untuk meminimalisir kehilangan saat menambahkan model baru."
   ]
  },
  {
   "cell_type": "code",
   "execution_count": 489,
   "metadata": {},
   "outputs": [
    {
     "data": {
      "text/html": [
       "<div>\n",
       "<style scoped>\n",
       "    .dataframe tbody tr th:only-of-type {\n",
       "        vertical-align: middle;\n",
       "    }\n",
       "\n",
       "    .dataframe tbody tr th {\n",
       "        vertical-align: top;\n",
       "    }\n",
       "\n",
       "    .dataframe thead th {\n",
       "        text-align: right;\n",
       "    }\n",
       "</style>\n",
       "<table border=\"1\" class=\"dataframe\">\n",
       "  <thead>\n",
       "    <tr style=\"text-align: right;\">\n",
       "      <th></th>\n",
       "      <th>RMSE</th>\n",
       "      <th>MAE</th>\n",
       "      <th>MAPE</th>\n",
       "    </tr>\n",
       "  </thead>\n",
       "  <tbody>\n",
       "    <tr>\n",
       "      <th>XGB</th>\n",
       "      <td>1008.401344</td>\n",
       "      <td>439.038784</td>\n",
       "      <td>0.062233</td>\n",
       "    </tr>\n",
       "  </tbody>\n",
       "</table>\n",
       "</div>"
      ],
      "text/plain": [
       "            RMSE         MAE      MAPE\n",
       "XGB  1008.401344  439.038784  0.062233"
      ]
     },
     "execution_count": 489,
     "metadata": {},
     "output_type": "execute_result"
    }
   ],
   "source": [
    "# Benchmark model terbaik\n",
    "models = {\n",
    "    'XGB': XGBRegressor(random_state=1),\n",
    "}\n",
    "\n",
    "score_rmse = []\n",
    "score_mae = []\n",
    "score_mape = []\n",
    "\n",
    "# Prediksi pada test set\n",
    "for i in models:\n",
    "\n",
    "    model = Pipeline([\n",
    "        ('preprocessing', transformer),\n",
    "        ('scaler', scaler),\n",
    "        ('model', models[i])\n",
    "        ])\n",
    "\n",
    "    model.fit(X_train, y_train)\n",
    "    y_pred = model.predict(X_test)\n",
    "    score_rmse.append(np.sqrt(mean_squared_error(y_test, y_pred)))\n",
    "    score_mae.append(mean_absolute_error(y_test, y_pred))\n",
    "    score_mape.append(mean_absolute_percentage_error(y_test, y_pred))\n",
    "\n",
    "score_before_tuning = pd.DataFrame({'RMSE': score_rmse, 'MAE': score_mae, 'MAPE': score_mape}, index=models.keys())\n",
    "score_before_tuning"
   ]
  },
  {
   "cell_type": "markdown",
   "metadata": {},
   "source": [
    "#### **4_6_Hyperparameter Tuning**\n",
    "\n",
    "Selanjutnya kita akan menggunakan model XGBoost ini sebagai model akhir. Pada tahap ini, kita akan melakukan hyperparameter tuning pada model XGBoost dengan harapan dapat meningkatkan performa model."
   ]
  },
  {
   "cell_type": "code",
   "execution_count": 490,
   "metadata": {},
   "outputs": [],
   "source": [
    "# Kedalaman pohon\n",
    "max_depth = list(np.arange(1, 11))\n",
    "\n",
    "# Learning rate\n",
    "learning_rate = list(np.arange(1, 100)/100)\n",
    "\n",
    "# Jumlah pohon\n",
    "n_estimators = list(np.arange(100, 201))\n",
    "\n",
    "# Jumlah baris tiap pohon (% dari total baris train set)\n",
    "subsample = list(np.arange(2, 10)/10)\n",
    "\n",
    "# Gamma (min_impurity_decrease)\n",
    "gamma = list(np.arange(1, 11)) # Semakin besar nilainya, semakin konservatif/simpel modelnya\n",
    "\n",
    "# Jumlah feature yang digunakan untuk tiap pohon (% dari total kolom train set)\n",
    "colsample_bytree = list(np.arange(1, 10)/10)\n",
    "\n",
    "# Alpha (regularization)\n",
    "reg_alpha = list(np.logspace(-3, 1, 10)) # Semakin besar nilainya, semakin konservatif/simpel modelnya\n",
    "\n",
    "\n",
    "# Hyperparam space XGboost\n",
    "hyperparam_space_xgb = {\n",
    "    'model__max_depth': max_depth, \n",
    "    'model__learning_rate': learning_rate,\n",
    "    'model__n_estimators': n_estimators,\n",
    "    'model__subsample': subsample,\n",
    "    'model__gamma': gamma,\n",
    "    'model__colsample_bytree': colsample_bytree,\n",
    "    'model__reg_alpha': reg_alpha\n",
    "}"
   ]
  },
  {
   "cell_type": "code",
   "execution_count": 491,
   "metadata": {},
   "outputs": [],
   "source": [
    "# Benchmark model dengan hyperparameter tuning\n",
    "xgb = XGBRegressor(random_state=1, verbosity=0)\n",
    "\n",
    "# Membuat algorithm chains\n",
    "estimator_xgb = Pipeline([\n",
    "        ('preprocessing', transformer),\n",
    "        ('scaler', scaler),\n",
    "        ('model', xgb)\n",
    "        ])\n",
    "\n",
    "crossval = KFold(n_splits=5, shuffle=True, random_state=1)\n",
    "\n",
    "# Hyperparameter tuning\n",
    "random_xgb = RandomizedSearchCV(\n",
    "    estimator_xgb, \n",
    "    param_distributions = hyperparam_space_xgb,\n",
    "    n_iter = 50,\n",
    "    cv = crossval, \n",
    "    scoring = ['neg_root_mean_squared_error', 'neg_mean_absolute_error', 'neg_mean_absolute_percentage_error'], \n",
    "    n_jobs = -1,\n",
    "    refit = 'neg_root_mean_squared_error', # Hanya bisa memilih salah stau metric untuk optimisasi\n",
    "    random_state = 1  \n",
    ")"
   ]
  },
  {
   "cell_type": "code",
   "execution_count": 492,
   "metadata": {},
   "outputs": [
    {
     "data": {
      "text/html": [
       "<style>#sk-container-id-6 {color: black;background-color: white;}#sk-container-id-6 pre{padding: 0;}#sk-container-id-6 div.sk-toggleable {background-color: white;}#sk-container-id-6 label.sk-toggleable__label {cursor: pointer;display: block;width: 100%;margin-bottom: 0;padding: 0.3em;box-sizing: border-box;text-align: center;}#sk-container-id-6 label.sk-toggleable__label-arrow:before {content: \"▸\";float: left;margin-right: 0.25em;color: #696969;}#sk-container-id-6 label.sk-toggleable__label-arrow:hover:before {color: black;}#sk-container-id-6 div.sk-estimator:hover label.sk-toggleable__label-arrow:before {color: black;}#sk-container-id-6 div.sk-toggleable__content {max-height: 0;max-width: 0;overflow: hidden;text-align: left;background-color: #f0f8ff;}#sk-container-id-6 div.sk-toggleable__content pre {margin: 0.2em;color: black;border-radius: 0.25em;background-color: #f0f8ff;}#sk-container-id-6 input.sk-toggleable__control:checked~div.sk-toggleable__content {max-height: 200px;max-width: 100%;overflow: auto;}#sk-container-id-6 input.sk-toggleable__control:checked~label.sk-toggleable__label-arrow:before {content: \"▾\";}#sk-container-id-6 div.sk-estimator input.sk-toggleable__control:checked~label.sk-toggleable__label {background-color: #d4ebff;}#sk-container-id-6 div.sk-label input.sk-toggleable__control:checked~label.sk-toggleable__label {background-color: #d4ebff;}#sk-container-id-6 input.sk-hidden--visually {border: 0;clip: rect(1px 1px 1px 1px);clip: rect(1px, 1px, 1px, 1px);height: 1px;margin: -1px;overflow: hidden;padding: 0;position: absolute;width: 1px;}#sk-container-id-6 div.sk-estimator {font-family: monospace;background-color: #f0f8ff;border: 1px dotted black;border-radius: 0.25em;box-sizing: border-box;margin-bottom: 0.5em;}#sk-container-id-6 div.sk-estimator:hover {background-color: #d4ebff;}#sk-container-id-6 div.sk-parallel-item::after {content: \"\";width: 100%;border-bottom: 1px solid gray;flex-grow: 1;}#sk-container-id-6 div.sk-label:hover label.sk-toggleable__label {background-color: #d4ebff;}#sk-container-id-6 div.sk-serial::before {content: \"\";position: absolute;border-left: 1px solid gray;box-sizing: border-box;top: 0;bottom: 0;left: 50%;z-index: 0;}#sk-container-id-6 div.sk-serial {display: flex;flex-direction: column;align-items: center;background-color: white;padding-right: 0.2em;padding-left: 0.2em;position: relative;}#sk-container-id-6 div.sk-item {position: relative;z-index: 1;}#sk-container-id-6 div.sk-parallel {display: flex;align-items: stretch;justify-content: center;background-color: white;position: relative;}#sk-container-id-6 div.sk-item::before, #sk-container-id-6 div.sk-parallel-item::before {content: \"\";position: absolute;border-left: 1px solid gray;box-sizing: border-box;top: 0;bottom: 0;left: 50%;z-index: -1;}#sk-container-id-6 div.sk-parallel-item {display: flex;flex-direction: column;z-index: 1;position: relative;background-color: white;}#sk-container-id-6 div.sk-parallel-item:first-child::after {align-self: flex-end;width: 50%;}#sk-container-id-6 div.sk-parallel-item:last-child::after {align-self: flex-start;width: 50%;}#sk-container-id-6 div.sk-parallel-item:only-child::after {width: 0;}#sk-container-id-6 div.sk-dashed-wrapped {border: 1px dashed gray;margin: 0 0.4em 0.5em 0.4em;box-sizing: border-box;padding-bottom: 0.4em;background-color: white;}#sk-container-id-6 div.sk-label label {font-family: monospace;font-weight: bold;display: inline-block;line-height: 1.2em;}#sk-container-id-6 div.sk-label-container {text-align: center;}#sk-container-id-6 div.sk-container {/* jupyter's `normalize.less` sets `[hidden] { display: none; }` but bootstrap.min.css set `[hidden] { display: none !important; }` so we also need the `!important` here to be able to override the default hidden behavior on the sphinx rendered scikit-learn.org. See: https://github.com/scikit-learn/scikit-learn/issues/21755 */display: inline-block !important;position: relative;}#sk-container-id-6 div.sk-text-repr-fallback {display: none;}</style><div id=\"sk-container-id-6\" class=\"sk-top-container\"><div class=\"sk-text-repr-fallback\"><pre>RandomizedSearchCV(cv=KFold(n_splits=5, random_state=1, shuffle=True),\n",
       "                   estimator=Pipeline(steps=[(&#x27;preprocessing&#x27;,\n",
       "                                              ColumnTransformer(remainder=&#x27;passthrough&#x27;,\n",
       "                                                                transformers=[(&#x27;ordinal&#x27;,\n",
       "                                                                               OrdinalEncoder(cols=[&#x27;Education&#x27;],\n",
       "                                                                                              mapping=[{&#x27;col&#x27;: &#x27;Education&#x27;,\n",
       "                                                                                                        &#x27;mapping&#x27;: {None: 0,\n",
       "                                                                                                                    &#x27;Bachelor&#x27;: 3,\n",
       "                                                                                                                    &#x27;College&#x27;: 4,\n",
       "                                                                                                                    &#x27;Doctor&#x27;: 1,\n",
       "                                                                                                                    &#x27;High School or Below&#x27;: 5,\n",
       "                                                                                                                    &#x27;Master&#x27;: 2}}]),\n",
       "                                                                               [&#x27;Education&#x27;]),\n",
       "                                                                              (&#x27;on...\n",
       "                                                             0.007742636826811269,\n",
       "                                                             0.021544346900318832,\n",
       "                                                             0.05994842503189409,\n",
       "                                                             0.1668100537200059,\n",
       "                                                             0.46415888336127775,\n",
       "                                                             1.2915496650148828,\n",
       "                                                             3.593813663804626,\n",
       "                                                             10.0],\n",
       "                                        &#x27;model__subsample&#x27;: [0.2, 0.3, 0.4, 0.5,\n",
       "                                                             0.6, 0.7, 0.8,\n",
       "                                                             0.9]},\n",
       "                   random_state=1, refit=&#x27;neg_root_mean_squared_error&#x27;,\n",
       "                   scoring=[&#x27;neg_root_mean_squared_error&#x27;,\n",
       "                            &#x27;neg_mean_absolute_error&#x27;,\n",
       "                            &#x27;neg_mean_absolute_percentage_error&#x27;])</pre><b>In a Jupyter environment, please rerun this cell to show the HTML representation or trust the notebook. <br />On GitHub, the HTML representation is unable to render, please try loading this page with nbviewer.org.</b></div><div class=\"sk-container\" hidden><div class=\"sk-item sk-dashed-wrapped\"><div class=\"sk-label-container\"><div class=\"sk-label sk-toggleable\"><input class=\"sk-toggleable__control sk-hidden--visually\" id=\"sk-estimator-id-56\" type=\"checkbox\" ><label for=\"sk-estimator-id-56\" class=\"sk-toggleable__label sk-toggleable__label-arrow\">RandomizedSearchCV</label><div class=\"sk-toggleable__content\"><pre>RandomizedSearchCV(cv=KFold(n_splits=5, random_state=1, shuffle=True),\n",
       "                   estimator=Pipeline(steps=[(&#x27;preprocessing&#x27;,\n",
       "                                              ColumnTransformer(remainder=&#x27;passthrough&#x27;,\n",
       "                                                                transformers=[(&#x27;ordinal&#x27;,\n",
       "                                                                               OrdinalEncoder(cols=[&#x27;Education&#x27;],\n",
       "                                                                                              mapping=[{&#x27;col&#x27;: &#x27;Education&#x27;,\n",
       "                                                                                                        &#x27;mapping&#x27;: {None: 0,\n",
       "                                                                                                                    &#x27;Bachelor&#x27;: 3,\n",
       "                                                                                                                    &#x27;College&#x27;: 4,\n",
       "                                                                                                                    &#x27;Doctor&#x27;: 1,\n",
       "                                                                                                                    &#x27;High School or Below&#x27;: 5,\n",
       "                                                                                                                    &#x27;Master&#x27;: 2}}]),\n",
       "                                                                               [&#x27;Education&#x27;]),\n",
       "                                                                              (&#x27;on...\n",
       "                                                             0.007742636826811269,\n",
       "                                                             0.021544346900318832,\n",
       "                                                             0.05994842503189409,\n",
       "                                                             0.1668100537200059,\n",
       "                                                             0.46415888336127775,\n",
       "                                                             1.2915496650148828,\n",
       "                                                             3.593813663804626,\n",
       "                                                             10.0],\n",
       "                                        &#x27;model__subsample&#x27;: [0.2, 0.3, 0.4, 0.5,\n",
       "                                                             0.6, 0.7, 0.8,\n",
       "                                                             0.9]},\n",
       "                   random_state=1, refit=&#x27;neg_root_mean_squared_error&#x27;,\n",
       "                   scoring=[&#x27;neg_root_mean_squared_error&#x27;,\n",
       "                            &#x27;neg_mean_absolute_error&#x27;,\n",
       "                            &#x27;neg_mean_absolute_percentage_error&#x27;])</pre></div></div></div><div class=\"sk-parallel\"><div class=\"sk-parallel-item\"><div class=\"sk-item\"><div class=\"sk-label-container\"><div class=\"sk-label sk-toggleable\"><input class=\"sk-toggleable__control sk-hidden--visually\" id=\"sk-estimator-id-57\" type=\"checkbox\" ><label for=\"sk-estimator-id-57\" class=\"sk-toggleable__label sk-toggleable__label-arrow\">estimator: Pipeline</label><div class=\"sk-toggleable__content\"><pre>Pipeline(steps=[(&#x27;preprocessing&#x27;,\n",
       "                 ColumnTransformer(remainder=&#x27;passthrough&#x27;,\n",
       "                                   transformers=[(&#x27;ordinal&#x27;,\n",
       "                                                  OrdinalEncoder(cols=[&#x27;Education&#x27;],\n",
       "                                                                 mapping=[{&#x27;col&#x27;: &#x27;Education&#x27;,\n",
       "                                                                           &#x27;mapping&#x27;: {None: 0,\n",
       "                                                                                       &#x27;Bachelor&#x27;: 3,\n",
       "                                                                                       &#x27;College&#x27;: 4,\n",
       "                                                                                       &#x27;Doctor&#x27;: 1,\n",
       "                                                                                       &#x27;High School or Below&#x27;: 5,\n",
       "                                                                                       &#x27;Master&#x27;: 2}}]),\n",
       "                                                  [&#x27;Education&#x27;]),\n",
       "                                                 (&#x27;onehot&#x27;,\n",
       "                                                  OneHotEncoder(drop=&#x27;first&#x27;),\n",
       "                                                  [&#x27;Vehicle Class&#x27;, &#x27;Coverage&#x27;,\n",
       "                                                   &#x27;Renew Offer Type&#x27;,...\n",
       "                              gamma=None, gpu_id=None, grow_policy=None,\n",
       "                              importance_type=None,\n",
       "                              interaction_constraints=None, learning_rate=None,\n",
       "                              max_bin=None, max_cat_to_onehot=None,\n",
       "                              max_delta_step=None, max_depth=None,\n",
       "                              max_leaves=None, min_child_weight=None,\n",
       "                              missing=nan, monotone_constraints=None,\n",
       "                              n_estimators=100, n_jobs=None,\n",
       "                              num_parallel_tree=None, predictor=None,\n",
       "                              random_state=1, reg_alpha=None, reg_lambda=None, ...))])</pre></div></div></div><div class=\"sk-serial\"><div class=\"sk-item\"><div class=\"sk-serial\"><div class=\"sk-item sk-dashed-wrapped\"><div class=\"sk-label-container\"><div class=\"sk-label sk-toggleable\"><input class=\"sk-toggleable__control sk-hidden--visually\" id=\"sk-estimator-id-58\" type=\"checkbox\" ><label for=\"sk-estimator-id-58\" class=\"sk-toggleable__label sk-toggleable__label-arrow\">preprocessing: ColumnTransformer</label><div class=\"sk-toggleable__content\"><pre>ColumnTransformer(remainder=&#x27;passthrough&#x27;,\n",
       "                  transformers=[(&#x27;ordinal&#x27;,\n",
       "                                 OrdinalEncoder(cols=[&#x27;Education&#x27;],\n",
       "                                                mapping=[{&#x27;col&#x27;: &#x27;Education&#x27;,\n",
       "                                                          &#x27;mapping&#x27;: {None: 0,\n",
       "                                                                      &#x27;Bachelor&#x27;: 3,\n",
       "                                                                      &#x27;College&#x27;: 4,\n",
       "                                                                      &#x27;Doctor&#x27;: 1,\n",
       "                                                                      &#x27;High School or Below&#x27;: 5,\n",
       "                                                                      &#x27;Master&#x27;: 2}}]),\n",
       "                                 [&#x27;Education&#x27;]),\n",
       "                                (&#x27;onehot&#x27;, OneHotEncoder(drop=&#x27;first&#x27;),\n",
       "                                 [&#x27;Vehicle Class&#x27;, &#x27;Coverage&#x27;,\n",
       "                                  &#x27;Renew Offer Type&#x27;, &#x27;EmploymentStatus&#x27;,\n",
       "                                  &#x27;Marital Status&#x27;])])</pre></div></div></div><div class=\"sk-parallel\"><div class=\"sk-parallel-item\"><div class=\"sk-item\"><div class=\"sk-label-container\"><div class=\"sk-label sk-toggleable\"><input class=\"sk-toggleable__control sk-hidden--visually\" id=\"sk-estimator-id-59\" type=\"checkbox\" ><label for=\"sk-estimator-id-59\" class=\"sk-toggleable__label sk-toggleable__label-arrow\">ordinal</label><div class=\"sk-toggleable__content\"><pre>[&#x27;Education&#x27;]</pre></div></div></div><div class=\"sk-serial\"><div class=\"sk-item\"><div class=\"sk-estimator sk-toggleable\"><input class=\"sk-toggleable__control sk-hidden--visually\" id=\"sk-estimator-id-60\" type=\"checkbox\" ><label for=\"sk-estimator-id-60\" class=\"sk-toggleable__label sk-toggleable__label-arrow\">OrdinalEncoder</label><div class=\"sk-toggleable__content\"><pre>OrdinalEncoder(cols=[&#x27;Education&#x27;],\n",
       "               mapping=[{&#x27;col&#x27;: &#x27;Education&#x27;,\n",
       "                         &#x27;mapping&#x27;: {None: 0, &#x27;Bachelor&#x27;: 3, &#x27;College&#x27;: 4,\n",
       "                                     &#x27;Doctor&#x27;: 1, &#x27;High School or Below&#x27;: 5,\n",
       "                                     &#x27;Master&#x27;: 2}}])</pre></div></div></div></div></div></div><div class=\"sk-parallel-item\"><div class=\"sk-item\"><div class=\"sk-label-container\"><div class=\"sk-label sk-toggleable\"><input class=\"sk-toggleable__control sk-hidden--visually\" id=\"sk-estimator-id-61\" type=\"checkbox\" ><label for=\"sk-estimator-id-61\" class=\"sk-toggleable__label sk-toggleable__label-arrow\">onehot</label><div class=\"sk-toggleable__content\"><pre>[&#x27;Vehicle Class&#x27;, &#x27;Coverage&#x27;, &#x27;Renew Offer Type&#x27;, &#x27;EmploymentStatus&#x27;, &#x27;Marital Status&#x27;]</pre></div></div></div><div class=\"sk-serial\"><div class=\"sk-item\"><div class=\"sk-estimator sk-toggleable\"><input class=\"sk-toggleable__control sk-hidden--visually\" id=\"sk-estimator-id-62\" type=\"checkbox\" ><label for=\"sk-estimator-id-62\" class=\"sk-toggleable__label sk-toggleable__label-arrow\">OneHotEncoder</label><div class=\"sk-toggleable__content\"><pre>OneHotEncoder(drop=&#x27;first&#x27;)</pre></div></div></div></div></div></div><div class=\"sk-parallel-item\"><div class=\"sk-item\"><div class=\"sk-label-container\"><div class=\"sk-label sk-toggleable\"><input class=\"sk-toggleable__control sk-hidden--visually\" id=\"sk-estimator-id-63\" type=\"checkbox\" ><label for=\"sk-estimator-id-63\" class=\"sk-toggleable__label sk-toggleable__label-arrow\">remainder</label><div class=\"sk-toggleable__content\"><pre>[&#x27;Number of Policies&#x27;, &#x27;Monthly Premium Auto&#x27;, &#x27;Total Claim Amount&#x27;, &#x27;Income&#x27;]</pre></div></div></div><div class=\"sk-serial\"><div class=\"sk-item\"><div class=\"sk-estimator sk-toggleable\"><input class=\"sk-toggleable__control sk-hidden--visually\" id=\"sk-estimator-id-64\" type=\"checkbox\" ><label for=\"sk-estimator-id-64\" class=\"sk-toggleable__label sk-toggleable__label-arrow\">passthrough</label><div class=\"sk-toggleable__content\"><pre>passthrough</pre></div></div></div></div></div></div></div></div><div class=\"sk-item\"><div class=\"sk-estimator sk-toggleable\"><input class=\"sk-toggleable__control sk-hidden--visually\" id=\"sk-estimator-id-65\" type=\"checkbox\" ><label for=\"sk-estimator-id-65\" class=\"sk-toggleable__label sk-toggleable__label-arrow\">StandardScaler</label><div class=\"sk-toggleable__content\"><pre>StandardScaler()</pre></div></div></div><div class=\"sk-item\"><div class=\"sk-estimator sk-toggleable\"><input class=\"sk-toggleable__control sk-hidden--visually\" id=\"sk-estimator-id-66\" type=\"checkbox\" ><label for=\"sk-estimator-id-66\" class=\"sk-toggleable__label sk-toggleable__label-arrow\">XGBRegressor</label><div class=\"sk-toggleable__content\"><pre>XGBRegressor(base_score=None, booster=None, callbacks=None,\n",
       "             colsample_bylevel=None, colsample_bynode=None,\n",
       "             colsample_bytree=None, early_stopping_rounds=None,\n",
       "             enable_categorical=False, eval_metric=None, gamma=None,\n",
       "             gpu_id=None, grow_policy=None, importance_type=None,\n",
       "             interaction_constraints=None, learning_rate=None, max_bin=None,\n",
       "             max_cat_to_onehot=None, max_delta_step=None, max_depth=None,\n",
       "             max_leaves=None, min_child_weight=None, missing=nan,\n",
       "             monotone_constraints=None, n_estimators=100, n_jobs=None,\n",
       "             num_parallel_tree=None, predictor=None, random_state=1,\n",
       "             reg_alpha=None, reg_lambda=None, ...)</pre></div></div></div></div></div></div></div></div></div></div></div></div>"
      ],
      "text/plain": [
       "RandomizedSearchCV(cv=KFold(n_splits=5, random_state=1, shuffle=True),\n",
       "                   estimator=Pipeline(steps=[('preprocessing',\n",
       "                                              ColumnTransformer(remainder='passthrough',\n",
       "                                                                transformers=[('ordinal',\n",
       "                                                                               OrdinalEncoder(cols=['Education'],\n",
       "                                                                                              mapping=[{'col': 'Education',\n",
       "                                                                                                        'mapping': {None: 0,\n",
       "                                                                                                                    'Bachelor': 3,\n",
       "                                                                                                                    'College': 4,\n",
       "                                                                                                                    'Doctor': 1,\n",
       "                                                                                                                    'High School or Below': 5,\n",
       "                                                                                                                    'Master': 2}}]),\n",
       "                                                                               ['Education']),\n",
       "                                                                              ('on...\n",
       "                                                             0.007742636826811269,\n",
       "                                                             0.021544346900318832,\n",
       "                                                             0.05994842503189409,\n",
       "                                                             0.1668100537200059,\n",
       "                                                             0.46415888336127775,\n",
       "                                                             1.2915496650148828,\n",
       "                                                             3.593813663804626,\n",
       "                                                             10.0],\n",
       "                                        'model__subsample': [0.2, 0.3, 0.4, 0.5,\n",
       "                                                             0.6, 0.7, 0.8,\n",
       "                                                             0.9]},\n",
       "                   random_state=1, refit='neg_root_mean_squared_error',\n",
       "                   scoring=['neg_root_mean_squared_error',\n",
       "                            'neg_mean_absolute_error',\n",
       "                            'neg_mean_absolute_percentage_error'])"
      ]
     },
     "execution_count": 492,
     "metadata": {},
     "output_type": "execute_result"
    }
   ],
   "source": [
    "# Fitting data training untuk mencari parameter terbaik\n",
    "random_xgb.fit(X_train, y_train)"
   ]
  },
  {
   "cell_type": "code",
   "execution_count": 493,
   "metadata": {},
   "outputs": [
    {
     "data": {
      "text/html": [
       "<div>\n",
       "<style scoped>\n",
       "    .dataframe tbody tr th:only-of-type {\n",
       "        vertical-align: middle;\n",
       "    }\n",
       "\n",
       "    .dataframe tbody tr th {\n",
       "        vertical-align: top;\n",
       "    }\n",
       "\n",
       "    .dataframe thead th {\n",
       "        text-align: right;\n",
       "    }\n",
       "</style>\n",
       "<table border=\"1\" class=\"dataframe\">\n",
       "  <thead>\n",
       "    <tr style=\"text-align: right;\">\n",
       "      <th></th>\n",
       "      <th>mean_fit_time</th>\n",
       "      <th>std_fit_time</th>\n",
       "      <th>mean_score_time</th>\n",
       "      <th>std_score_time</th>\n",
       "      <th>param_model__subsample</th>\n",
       "      <th>param_model__reg_alpha</th>\n",
       "      <th>param_model__n_estimators</th>\n",
       "      <th>param_model__max_depth</th>\n",
       "      <th>param_model__learning_rate</th>\n",
       "      <th>param_model__gamma</th>\n",
       "      <th>...</th>\n",
       "      <th>std_test_neg_mean_absolute_error</th>\n",
       "      <th>rank_test_neg_mean_absolute_error</th>\n",
       "      <th>split0_test_neg_mean_absolute_percentage_error</th>\n",
       "      <th>split1_test_neg_mean_absolute_percentage_error</th>\n",
       "      <th>split2_test_neg_mean_absolute_percentage_error</th>\n",
       "      <th>split3_test_neg_mean_absolute_percentage_error</th>\n",
       "      <th>split4_test_neg_mean_absolute_percentage_error</th>\n",
       "      <th>mean_test_neg_mean_absolute_percentage_error</th>\n",
       "      <th>std_test_neg_mean_absolute_percentage_error</th>\n",
       "      <th>rank_test_neg_mean_absolute_percentage_error</th>\n",
       "    </tr>\n",
       "  </thead>\n",
       "  <tbody>\n",
       "    <tr>\n",
       "      <th>17</th>\n",
       "      <td>1.706770</td>\n",
       "      <td>0.296899</td>\n",
       "      <td>0.016772</td>\n",
       "      <td>0.001111</td>\n",
       "      <td>0.6</td>\n",
       "      <td>0.001</td>\n",
       "      <td>190</td>\n",
       "      <td>5</td>\n",
       "      <td>0.04</td>\n",
       "      <td>9</td>\n",
       "      <td>...</td>\n",
       "      <td>22.621749</td>\n",
       "      <td>2</td>\n",
       "      <td>-0.042598</td>\n",
       "      <td>-0.047521</td>\n",
       "      <td>-0.044270</td>\n",
       "      <td>-0.047537</td>\n",
       "      <td>-0.047905</td>\n",
       "      <td>-0.045966</td>\n",
       "      <td>0.002139</td>\n",
       "      <td>2</td>\n",
       "    </tr>\n",
       "    <tr>\n",
       "      <th>7</th>\n",
       "      <td>0.995383</td>\n",
       "      <td>0.015830</td>\n",
       "      <td>0.016003</td>\n",
       "      <td>0.002096</td>\n",
       "      <td>0.9</td>\n",
       "      <td>0.059948</td>\n",
       "      <td>119</td>\n",
       "      <td>8</td>\n",
       "      <td>0.05</td>\n",
       "      <td>5</td>\n",
       "      <td>...</td>\n",
       "      <td>15.931216</td>\n",
       "      <td>1</td>\n",
       "      <td>-0.044739</td>\n",
       "      <td>-0.044383</td>\n",
       "      <td>-0.043457</td>\n",
       "      <td>-0.044679</td>\n",
       "      <td>-0.045587</td>\n",
       "      <td>-0.044569</td>\n",
       "      <td>0.000685</td>\n",
       "      <td>1</td>\n",
       "    </tr>\n",
       "    <tr>\n",
       "      <th>24</th>\n",
       "      <td>0.409409</td>\n",
       "      <td>0.004714</td>\n",
       "      <td>0.013921</td>\n",
       "      <td>0.001191</td>\n",
       "      <td>0.9</td>\n",
       "      <td>10.0</td>\n",
       "      <td>146</td>\n",
       "      <td>4</td>\n",
       "      <td>0.06</td>\n",
       "      <td>5</td>\n",
       "      <td>...</td>\n",
       "      <td>25.046060</td>\n",
       "      <td>3</td>\n",
       "      <td>-0.051783</td>\n",
       "      <td>-0.062342</td>\n",
       "      <td>-0.059840</td>\n",
       "      <td>-0.062580</td>\n",
       "      <td>-0.061009</td>\n",
       "      <td>-0.059511</td>\n",
       "      <td>0.003988</td>\n",
       "      <td>3</td>\n",
       "    </tr>\n",
       "    <tr>\n",
       "      <th>22</th>\n",
       "      <td>0.354977</td>\n",
       "      <td>0.002623</td>\n",
       "      <td>0.013851</td>\n",
       "      <td>0.000990</td>\n",
       "      <td>0.7</td>\n",
       "      <td>0.002783</td>\n",
       "      <td>155</td>\n",
       "      <td>4</td>\n",
       "      <td>0.25</td>\n",
       "      <td>8</td>\n",
       "      <td>...</td>\n",
       "      <td>21.970569</td>\n",
       "      <td>6</td>\n",
       "      <td>-0.070305</td>\n",
       "      <td>-0.074252</td>\n",
       "      <td>-0.076449</td>\n",
       "      <td>-0.080941</td>\n",
       "      <td>-0.081192</td>\n",
       "      <td>-0.076628</td>\n",
       "      <td>0.004125</td>\n",
       "      <td>6</td>\n",
       "    </tr>\n",
       "    <tr>\n",
       "      <th>23</th>\n",
       "      <td>0.347491</td>\n",
       "      <td>0.010487</td>\n",
       "      <td>0.014879</td>\n",
       "      <td>0.000984</td>\n",
       "      <td>0.9</td>\n",
       "      <td>3.593814</td>\n",
       "      <td>153</td>\n",
       "      <td>4</td>\n",
       "      <td>0.33</td>\n",
       "      <td>9</td>\n",
       "      <td>...</td>\n",
       "      <td>14.680752</td>\n",
       "      <td>5</td>\n",
       "      <td>-0.072592</td>\n",
       "      <td>-0.072038</td>\n",
       "      <td>-0.076962</td>\n",
       "      <td>-0.077691</td>\n",
       "      <td>-0.079853</td>\n",
       "      <td>-0.075827</td>\n",
       "      <td>0.003026</td>\n",
       "      <td>4</td>\n",
       "    </tr>\n",
       "  </tbody>\n",
       "</table>\n",
       "<p>5 rows × 36 columns</p>\n",
       "</div>"
      ],
      "text/plain": [
       "    mean_fit_time  std_fit_time  mean_score_time  std_score_time  \\\n",
       "17  1.706770       0.296899      0.016772         0.001111         \n",
       "7   0.995383       0.015830      0.016003         0.002096         \n",
       "24  0.409409       0.004714      0.013921         0.001191         \n",
       "22  0.354977       0.002623      0.013851         0.000990         \n",
       "23  0.347491       0.010487      0.014879         0.000984         \n",
       "\n",
       "   param_model__subsample param_model__reg_alpha param_model__n_estimators  \\\n",
       "17  0.6                    0.001                  190                        \n",
       "7   0.9                    0.059948               119                        \n",
       "24  0.9                    10.0                   146                        \n",
       "22  0.7                    0.002783               155                        \n",
       "23  0.9                    3.593814               153                        \n",
       "\n",
       "   param_model__max_depth param_model__learning_rate param_model__gamma  ...  \\\n",
       "17  5                      0.04                       9                  ...   \n",
       "7   8                      0.05                       5                  ...   \n",
       "24  4                      0.06                       5                  ...   \n",
       "22  4                      0.25                       8                  ...   \n",
       "23  4                      0.33                       9                  ...   \n",
       "\n",
       "   std_test_neg_mean_absolute_error rank_test_neg_mean_absolute_error  \\\n",
       "17  22.621749                        2                                  \n",
       "7   15.931216                        1                                  \n",
       "24  25.046060                        3                                  \n",
       "22  21.970569                        6                                  \n",
       "23  14.680752                        5                                  \n",
       "\n",
       "    split0_test_neg_mean_absolute_percentage_error  \\\n",
       "17 -0.042598                                         \n",
       "7  -0.044739                                         \n",
       "24 -0.051783                                         \n",
       "22 -0.070305                                         \n",
       "23 -0.072592                                         \n",
       "\n",
       "    split1_test_neg_mean_absolute_percentage_error  \\\n",
       "17 -0.047521                                         \n",
       "7  -0.044383                                         \n",
       "24 -0.062342                                         \n",
       "22 -0.074252                                         \n",
       "23 -0.072038                                         \n",
       "\n",
       "    split2_test_neg_mean_absolute_percentage_error  \\\n",
       "17 -0.044270                                         \n",
       "7  -0.043457                                         \n",
       "24 -0.059840                                         \n",
       "22 -0.076449                                         \n",
       "23 -0.076962                                         \n",
       "\n",
       "    split3_test_neg_mean_absolute_percentage_error  \\\n",
       "17 -0.047537                                         \n",
       "7  -0.044679                                         \n",
       "24 -0.062580                                         \n",
       "22 -0.080941                                         \n",
       "23 -0.077691                                         \n",
       "\n",
       "    split4_test_neg_mean_absolute_percentage_error  \\\n",
       "17 -0.047905                                         \n",
       "7  -0.045587                                         \n",
       "24 -0.061009                                         \n",
       "22 -0.081192                                         \n",
       "23 -0.079853                                         \n",
       "\n",
       "    mean_test_neg_mean_absolute_percentage_error  \\\n",
       "17 -0.045966                                       \n",
       "7  -0.044569                                       \n",
       "24 -0.059511                                       \n",
       "22 -0.076628                                       \n",
       "23 -0.075827                                       \n",
       "\n",
       "    std_test_neg_mean_absolute_percentage_error  \\\n",
       "17  0.002139                                      \n",
       "7   0.000685                                      \n",
       "24  0.003988                                      \n",
       "22  0.004125                                      \n",
       "23  0.003026                                      \n",
       "\n",
       "    rank_test_neg_mean_absolute_percentage_error  \n",
       "17  2                                             \n",
       "7   1                                             \n",
       "24  3                                             \n",
       "22  6                                             \n",
       "23  4                                             \n",
       "\n",
       "[5 rows x 36 columns]"
      ]
     },
     "execution_count": 493,
     "metadata": {},
     "output_type": "execute_result"
    }
   ],
   "source": [
    "# Melihat hasil tuning dalam bentuk dataframe. Diurutkan berdasarkan RMSE, MAE & MAPE\n",
    "pd.DataFrame(random_xgb.cv_results_).sort_values(by=['rank_test_neg_root_mean_squared_error', 'rank_test_neg_mean_absolute_error', 'rank_test_neg_mean_absolute_percentage_error']).head()"
   ]
  },
  {
   "cell_type": "code",
   "execution_count": 494,
   "metadata": {},
   "outputs": [
    {
     "name": "stdout",
     "output_type": "stream",
     "text": [
      "XGBoost\n",
      "Best_score: -890.2531245624041\n",
      "Best_params: {'model__subsample': 0.6, 'model__reg_alpha': 0.001, 'model__n_estimators': 190, 'model__max_depth': 5, 'model__learning_rate': 0.04, 'model__gamma': 9, 'model__colsample_bytree': 0.9}\n"
     ]
    }
   ],
   "source": [
    "# Cek skor dan params terbaik\n",
    "print('XGBoost')\n",
    "print('Best_score:', random_xgb.best_score_)\n",
    "print('Best_params:', random_xgb.best_params_)"
   ]
  },
  {
   "cell_type": "markdown",
   "metadata": {},
   "source": [
    "#### **4_7_Predict to Test Set with the Tuned Model**\n",
    "\n",
    "Melakukan prediksi pada test set dengan menggunakan model XGBoost dan hyperparameter terpilih."
   ]
  },
  {
   "cell_type": "code",
   "execution_count": 495,
   "metadata": {},
   "outputs": [
    {
     "data": {
      "text/html": [
       "<div>\n",
       "<style scoped>\n",
       "    .dataframe tbody tr th:only-of-type {\n",
       "        vertical-align: middle;\n",
       "    }\n",
       "\n",
       "    .dataframe tbody tr th {\n",
       "        vertical-align: top;\n",
       "    }\n",
       "\n",
       "    .dataframe thead th {\n",
       "        text-align: right;\n",
       "    }\n",
       "</style>\n",
       "<table border=\"1\" class=\"dataframe\">\n",
       "  <thead>\n",
       "    <tr style=\"text-align: right;\">\n",
       "      <th></th>\n",
       "      <th>RMSE</th>\n",
       "      <th>MAE</th>\n",
       "      <th>MAPE</th>\n",
       "    </tr>\n",
       "  </thead>\n",
       "  <tbody>\n",
       "    <tr>\n",
       "      <th>XGB</th>\n",
       "      <td>958.693903</td>\n",
       "      <td>389.499574</td>\n",
       "      <td>0.048459</td>\n",
       "    </tr>\n",
       "  </tbody>\n",
       "</table>\n",
       "</div>"
      ],
      "text/plain": [
       "           RMSE         MAE      MAPE\n",
       "XGB  958.693903  389.499574  0.048459"
      ]
     },
     "execution_count": 495,
     "metadata": {},
     "output_type": "execute_result"
    }
   ],
   "source": [
    "# Model XGBoost\n",
    "model = {'XGB': XGBRegressor(random_state=1)}\n",
    "\n",
    "# Define model terhadap estimator terbaik\n",
    "xgb_tuning = random_xgb.best_estimator_\n",
    "\n",
    "# Fitting model\n",
    "xgb_tuning.fit(X_train, y_train)\n",
    "\n",
    "# Predict test set\n",
    "y_pred_xgb_tuning = xgb_tuning.predict(X_test)\n",
    "\n",
    "# Simpan nilai metrics RMSE, MAE & MAPE setelah tuning\n",
    "rmse_xgb_tuning = np.sqrt(mean_squared_error(y_test, y_pred_xgb_tuning))\n",
    "mae_xgb_tuning = mean_absolute_error(y_test, y_pred_xgb_tuning)\n",
    "mape_xgb_tuning = mean_absolute_percentage_error(y_test, y_pred_xgb_tuning)\n",
    "\n",
    "score_after_tuning = pd.DataFrame({'RMSE': rmse_xgb_tuning, 'MAE': mae_xgb_tuning, 'MAPE': mape_xgb_tuning}, index=model.keys())\n",
    "score_after_tuning"
   ]
  },
  {
   "cell_type": "markdown",
   "metadata": {},
   "source": [
    "#### **4_8_Performance Comparison**\n",
    "\n",
    "Perbandingan performa model XGBoost sebelum dan sesudah dilakukan hyperparameter tuning."
   ]
  },
  {
   "cell_type": "code",
   "execution_count": 496,
   "metadata": {},
   "outputs": [
    {
     "data": {
      "text/html": [
       "<div>\n",
       "<style scoped>\n",
       "    .dataframe tbody tr th:only-of-type {\n",
       "        vertical-align: middle;\n",
       "    }\n",
       "\n",
       "    .dataframe tbody tr th {\n",
       "        vertical-align: top;\n",
       "    }\n",
       "\n",
       "    .dataframe thead th {\n",
       "        text-align: right;\n",
       "    }\n",
       "</style>\n",
       "<table border=\"1\" class=\"dataframe\">\n",
       "  <thead>\n",
       "    <tr style=\"text-align: right;\">\n",
       "      <th></th>\n",
       "      <th>RMSE</th>\n",
       "      <th>MAE</th>\n",
       "      <th>MAPE</th>\n",
       "    </tr>\n",
       "  </thead>\n",
       "  <tbody>\n",
       "    <tr>\n",
       "      <th>XGB</th>\n",
       "      <td>1008.401344</td>\n",
       "      <td>439.038784</td>\n",
       "      <td>0.062233</td>\n",
       "    </tr>\n",
       "  </tbody>\n",
       "</table>\n",
       "</div>"
      ],
      "text/plain": [
       "            RMSE         MAE      MAPE\n",
       "XGB  1008.401344  439.038784  0.062233"
      ]
     },
     "execution_count": 496,
     "metadata": {},
     "output_type": "execute_result"
    }
   ],
   "source": [
    "# Sebelum hyperparameter tuning\n",
    "pd.DataFrame(score_before_tuning.loc['XGB']).T"
   ]
  },
  {
   "cell_type": "code",
   "execution_count": 497,
   "metadata": {},
   "outputs": [
    {
     "data": {
      "text/html": [
       "<div>\n",
       "<style scoped>\n",
       "    .dataframe tbody tr th:only-of-type {\n",
       "        vertical-align: middle;\n",
       "    }\n",
       "\n",
       "    .dataframe tbody tr th {\n",
       "        vertical-align: top;\n",
       "    }\n",
       "\n",
       "    .dataframe thead th {\n",
       "        text-align: right;\n",
       "    }\n",
       "</style>\n",
       "<table border=\"1\" class=\"dataframe\">\n",
       "  <thead>\n",
       "    <tr style=\"text-align: right;\">\n",
       "      <th></th>\n",
       "      <th>RMSE</th>\n",
       "      <th>MAE</th>\n",
       "      <th>MAPE</th>\n",
       "    </tr>\n",
       "  </thead>\n",
       "  <tbody>\n",
       "    <tr>\n",
       "      <th>XGB</th>\n",
       "      <td>958.693903</td>\n",
       "      <td>389.499574</td>\n",
       "      <td>0.048459</td>\n",
       "    </tr>\n",
       "  </tbody>\n",
       "</table>\n",
       "</div>"
      ],
      "text/plain": [
       "           RMSE         MAE      MAPE\n",
       "XGB  958.693903  389.499574  0.048459"
      ]
     },
     "execution_count": 497,
     "metadata": {},
     "output_type": "execute_result"
    }
   ],
   "source": [
    "# Setelah hyperparameter tuning\n",
    "score_after_tuning"
   ]
  },
  {
   "cell_type": "markdown",
   "metadata": {},
   "source": [
    "Model mengalami peningkatan performa (nilai RMSE, MAE & MAPE berkurang) dengan dilakukanya hyperparameter tuning, walaupun hanya sedikit.\n",
    "- RMSE, MAE & MAPE sebelum tuning: 1008.401344,     439.038784,     0.062233\n",
    "- RMSE, MAE & MAPE setelah tuning: 958.693903,      389.499574,     0.048459"
   ]
  },
  {
   "cell_type": "code",
   "execution_count": 498,
   "metadata": {},
   "outputs": [
    {
     "data": {
      "image/png": "[encoded data removed]",
      "text/plain": [
       "<Figure size 1008x576 with 1 Axes>"
      ]
     },
     "metadata": {
      "needs_background": "light"
     },
     "output_type": "display_data"
    }
   ],
   "source": [
    "# Plot actual CLV vs Predicted CLV\n",
    "\n",
    "plt.figure(figsize=(14, 8))\n",
    "plot = sns.scatterplot(x=y_test, y=y_pred_xgb_tuning).set(title='Actual vs. Prediction CLV', \n",
    "                                               xlabel='Actual CLV', \n",
    "                                               ylabel='Predicted CLV');"
   ]
  },
  {
   "cell_type": "markdown",
   "metadata": {},
   "source": [
    "#### **4_9_Feature Importances**\n",
    "Untuk dapat mengetahui sebenarnya fitur apa saja yang sangat memengaruhi target (CLV), kita dapat mengeceknya melalui function feature_importances_."
   ]
  },
  {
   "cell_type": "code",
   "execution_count": 499,
   "metadata": {},
   "outputs": [
    {
     "data": {
      "image/png": "[encoded data removed]",
      "text/plain": [
       "<Figure size 432x288 with 1 Axes>"
      ]
     },
     "metadata": {
      "needs_background": "light"
     },
     "output_type": "display_data"
    }
   ],
   "source": [
    "# Plot feature importances\n",
    "feature_imp = pd.Series(xgb_tuning['model'].feature_importances_, transformer.get_feature_names()).sort_values(ascending = False).head(7)\n",
    "feature_imp.plot(kind='barh', title='Feature Importances');"
   ]
  },
  {
   "cell_type": "markdown",
   "metadata": {},
   "source": [
    "### **5_Conclusion**"
   ]
  },
  {
   "cell_type": "markdown",
   "metadata": {},
   "source": [
    "Berdasarkan pemodelan yang sudah dilakukan, fitur 'Number of Policies' dan 'Vehicle Class' menjadi fitur yang paling berpengaruh terhadap 'Customer Lifetime Value' atau CLV.\n",
    "\n",
    "Metrik evaluasi yang digunakan pada model adalah nilai RMSE, MAE & MAPE. Jika ditinjau dari nilai MAPE yang dihasilkan oleh model setelah dilakukan hyperparameter tuning, yaitu sebesar ~4%, kita dapat menyimpulkan bahwa bila nanti model yang kita buat ini digunakan untuk memperkirakan Customer Lifetime Value pada rentang nilai seperti yang dilatih terhadap model (maksimal nilai CLV 16.646), maka perkiraan CLVnya rata-rata akan meleset kurang lebih sebesar 4% dari CLV seharusnya. \n",
    "\n",
    "Tetapi, tidak menutup kemungkinan juga prediksinya meleset lebih jauh karena bias yang dihasilkan model masih cukup tinggi bila dilihat dari visualisasi antara CLV aktual dan prediksi, terutama diatas CLV 8.000. Bias yang dihasilkan oleh model ini dikarenakan oleh terbatasnya fitur pada dataset yang bisa merepresentasikan aspek customer dan juga kendaraan.\n",
    "\n",
    "Ada juga beberapa limitasi yang tercipta karena nilai yang dipake untuk melatih model ini, seperti:\n",
    "- Nilai Customer Lifetime Value maksimal 16.646.\n",
    "- Nilai Numbers of policy maksimal 8.5.\n",
    "- Nilai Monthly Premium Auto maksimal 170.5\n",
    "- Nilai Total Claim Amount maksimal 974.566507\n",
    "\n",
    "Model ini tentu masih dapat diperbagus agar dapat menghasilkan prediksi yang lebih baik lagi. Namun, kita dapat melakukan komparasi data real terhadap model yang sudah dibuat pada project ini untuk mengetahui tingkat efektifitas penggunaan model memprediksi CLV. Nantinya, dari hasil komparasi, kita bisa mendapatkan insight lainnya terkait perihal yang bisa dan harus diperbaiki pada model.  \n"
   ]
  },
  {
   "cell_type": "markdown",
   "metadata": {},
   "source": [
    "### **6_Recommendations**"
   ]
  },
  {
   "cell_type": "markdown",
   "metadata": {},
   "source": [
    "    Lakukan Komparasi data real dengan model yang sudah dibuat di masa depan.\n",
    "\n",
    "Lalu, hal-hal yang dapat dilakukan untuk mengembangkan model agar lebih baik lagi, seperti:\n",
    "1. penambahan fitur yang lebih korelatif dengan target ('Customer Lifetime Value'), bisa seperti umur kendaraan, policy length, atau daerah tinggal customer. serta penambahan data terkini dapat meningkatkan kapasitas prediksi dari model.\n",
    "\n",
    "2. Mencoba algoritma ML yang lain serta melakukan hyperparameter tuning kembali\n",
    "\n",
    "3. Menggunakan model yang lebih rumit, namun harus diiringi dengan penambahan jumlah data & penambahan jumlah fitur yang berkorelasi dengan target ('Customer Lifetime Value').\n",
    "\n",
    "4. Menganalisa data-data yang memiliki error tinggi saat di prediksi dengan model kita. lalu melakukan analisa hubungan antara error tersebut dengan setiap variable independen. Hal ini dilakukan dengan harapan untuk mengetahui sebenarnya variable mana saja yang menyebabkan error yang tinggi.\n",
    " "
   ]
  },
  {
   "cell_type": "markdown",
   "metadata": {},
   "source": [
    "#### **Save Model**"
   ]
  },
  {
   "cell_type": "code",
   "execution_count": 503,
   "metadata": {},
   "outputs": [],
   "source": [
    "# Save model\n",
    "# import pickle\n",
    "\n",
    "# estimator = Pipeline([('preprocess', transformer), ('model', XGBRegressor())])\n",
    "# estimator.fit(X_train, y_train)\n",
    "\n",
    "# pickle.dump(estimator, open('Customer_Lifetime_Value_XGB.sav', 'wb'))"
   ]
  },
  {
   "cell_type": "code",
   "execution_count": 504,
   "metadata": {},
   "outputs": [],
   "source": [
    "# Load model\n",
    "# filename = 'Customer_Lifetime_Value_XGB.sav'\n",
    "# loaded_model = pickle.load(open(filename, 'rb'))"
   ]
  },
  {
   "cell_type": "code",
   "execution_count": 505,
   "metadata": {},
   "outputs": [
    {
     "data": {
      "text/plain": [
       "1008.7818059917497"
      ]
     },
     "execution_count": 505,
     "metadata": {},
     "output_type": "execute_result"
    }
   ],
   "source": [
    "# np.sqrt(mean_squared_error(y_test, loaded_model.predict(X_test)))"
   ]
  }
 ],
 "metadata": {
  "kernelspec": {
   "display_name": "Python 3.9.7 ('base')",
   "language": "python",
   "name": "python3"
  },
  "language_info": {
   "codemirror_mode": {
    "name": "ipython",
    "version": 3
   },
   "file_extension": ".py",
   "mimetype": "text/x-python",
   "name": "python",
   "nbconvert_exporter": "python",
   "pygments_lexer": "ipython3",
   "version": "3.9.7"
  },
  "orig_nbformat": 4,
  "vscode": {
   "interpreter": {
    "hash": "28b0e5e9365eda08016a40b65236fd79e4b6e0b469bd8fc69df01c8d845b46dc"
   }
  }
 },
 "nbformat": 4,
 "nbformat_minor": 2
}
